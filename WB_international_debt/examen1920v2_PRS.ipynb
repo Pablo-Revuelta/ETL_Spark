{
 "cells": [
  {
   "cell_type": "markdown",
   "metadata": {},
   "source": [
    "## 1. The World Bank's international debt data\n",
    "<p>No es que los humanos solo tengamos deudas para administrar nuestras necesidades. Un país también puede endeudarse para administrar su economía. Por ejemplo, el gasto en infraestructura es un ingrediente costoso requerido para que los ciudadanos de un país lleven una vida cómoda. El Banco Mundial es la organización que proporciona deuda a los países.</p>\n",
    "\n",
    "<!-- <p>En este notebook, vamos a analizar los datos de la deuda internacional recopilados por el Banco Mundial. El conjunto de datos contiene información sobre el monto de la deuda (en USD) que deben los países en desarrollo en varias categorías.</p>  -->\n",
    "    "
   ]
  },
  {
   "cell_type": "markdown",
   "metadata": {},
   "source": [
    "### Autor: Pablo Revuelta Stobbs\n",
    "\n",
    "##### Fecha:14/01/2021"
   ]
  },
  {
   "cell_type": "markdown",
   "metadata": {},
   "source": [
    "\"Disbursements on external debt, long-term (DIS, current US$)\",DT.DIS.DLXF.CD\n",
    "\n",
    "\"Interest payments on external debt, long-term (INT, current US$)\",DT.INT.DLXF.CD\n",
    "\n",
    "\"PPG, bilateral (AMT, current US$)\",DT.AMT.BLAT.CD\n",
    "\n",
    "\"PPG, bilateral (DIS, current US$)\",DT.DIS.BLAT.CD\n",
    "\n",
    "\"PPG, bilateral (INT, current US$)\",DT.INT.BLAT.CD\n",
    "\n",
    "\"PPG, multilateral (AMT, current US$)\",DT.AMT.MLAT.CD\n",
    "\n",
    "\"PPG, multilateral (DIS, current US$)\",DT.DIS.MLAT.CD\n",
    "\n",
    "\"PPG, multilateral (INT, current US$)\",DT.INT.MLAT.CD\n",
    "\n",
    "\"PPG, official creditors (AMT, current US$)\",DT.AMT.OFFT.CD\n",
    "\n",
    "\"PPG, official creditors (DIS, current US$)\",DT.DIS.OFFT.CD\n",
    "\n",
    "\"PPG, official creditors (INT, current US$)\",DT.INT.OFFT.CD\n",
    "\n",
    "\"Principal repayments on external debt, long-term (AMT, current US$)\",DT.AMT.DLXF.CD\n",
    "\n",
    "\"Interest payments on external debt, private nonguaranteed (PNG) (INT, current US$)\",DT.INT.DPNG.CD\n",
    "\n",
    "\"PPG, bonds (AMT, current US$)\",DT.AMT.PBND.CD\n",
    "\n",
    "\"PPG, bonds (INT, current US$)\",DT.INT.PBND.CD\n",
    "\n",
    "\"PPG, commercial banks (AMT, current US$)\",DT.AMT.PCBK.CD\n",
    "\n",
    "\"PPG, commercial banks (DIS, current US$)\",DT.DIS.PCBK.CD\n",
    "\n",
    "\"PPG, commercial banks (INT, current US$)\",DT.INT.PCBK.CD\n",
    "\n",
    "\"PPG, other private creditors (AMT, current US$)\",DT.AMT.PROP.CD\n",
    "\n",
    "\"PPG, other private creditors (DIS, current US$)\",DT.DIS.PROP.CD\n",
    "\n",
    "\"PPG, other private creditors (INT, current US$)\",DT.INT.PROP.CD\n",
    "\n",
    "\"PPG, private creditors (AMT, current US$)\",DT.AMT.PRVT.CD\n",
    "\n",
    "\"PPG, private creditors (DIS, current US$)\",DT.DIS.PRVT.CD\n",
    "\n",
    "\"PPG, private creditors (INT, current US$)\",DT.INT.PRVT.CD\n",
    "\n",
    "\"Principal repayments on external debt, private nonguaranteed (PNG) (AMT, current US$)\",DT.AMT.DPNG.CD"
   ]
  },
  {
   "cell_type": "markdown",
   "metadata": {},
   "source": [
    "<p>Vamos a encontrar las respuestas a preguntas como:\n",
    "\n",
    "<p>¿Cuál es el monto total de la deuda que deben los países enumerados en el conjunto de datos?\n",
    "<p>¿Qué país posee la cantidad máxima de deuda y cómo se ve esa cantidad?\n",
    "<p>¿Cuál es el monto promedio de la deuda de los países a través de diferentes indicadores de deuda?\n",
    "    \n",
    "Además tenemos otro dataset en el que encontramos información histórica de algunos índices de desarrollo, entre los que se encuentran algunos de deuda como son:"
   ]
  },
  {
   "cell_type": "markdown",
   "metadata": {},
   "source": [
    "Series Name,Series Code\n",
    "\"Birth rate, crude (per 1,000 people)\",SP.DYN.CBRT.IN\n",
    "\n",
    "\"Central government debt, total (current LCU)\",GC.DOD.TOTL.CN\n",
    "\n",
    "\"Central government debt, total (% of GDP)\",GC.DOD.TOTL.GD.ZS"
   ]
  },
  {
   "cell_type": "markdown",
   "metadata": {},
   "source": [
    "## INDICE"
   ]
  },
  {
   "cell_type": "markdown",
   "metadata": {},
   "source": [
    "#### 1. Inicializar y cargar el contexto spark"
   ]
  },
  {
   "cell_type": "markdown",
   "metadata": {},
   "source": [
    "##### 2. Número de países distintos en cada dataset. Coinciden?"
   ]
  },
  {
   "cell_type": "markdown",
   "metadata": {},
   "source": [
    "##### 3. Total de deuda contraida por cada pais: total amount of debt (in USD) DT.AMT.MLAT.CD"
   ]
  },
  {
   "cell_type": "markdown",
   "metadata": {},
   "source": [
    "##### 4. Media de los indicadores de deuda (tabla uno): DT.AMT.BLAT.CD, DT.DIS.BLAT.CD, DT.INT.BLAT.CD"
   ]
  },
  {
   "cell_type": "markdown",
   "metadata": {},
   "source": [
    "##### 5. Los 20 paises con DT.AMT.DLXF.CD más alto"
   ]
  },
  {
   "cell_type": "markdown",
   "metadata": {},
   "source": [
    "##### 6. Pais con los datos informados todos los años."
   ]
  },
  {
   "cell_type": "markdown",
   "metadata": {},
   "source": [
    "##### 7. Media anual de los distintos indicadores de desarrollo"
   ]
  },
  {
   "cell_type": "markdown",
   "metadata": {},
   "source": [
    "##### 8. Podrías decirme el total de deuda acumulada DT.AMT.MLAT.CD por los 10 países con un valor en media menor de SP.DYN.CBRT.IN"
   ]
  },
  {
   "cell_type": "markdown",
   "metadata": {},
   "source": [
    "##### 9. ¿Hay alguna relación entre los nacimientos y el indicador DT.AMT.DLXF.CD? ¿Cómo podrías demostrarlo?"
   ]
  },
  {
   "cell_type": "markdown",
   "metadata": {},
   "source": [
    "--------------------------------------------------------------------"
   ]
  },
  {
   "cell_type": "markdown",
   "metadata": {},
   "source": [
    "#### 1. Inicializar y cargar el contexto spark"
   ]
  },
  {
   "cell_type": "code",
   "execution_count": 1,
   "metadata": {
    "collapsed": false,
    "scrolled": true
   },
   "outputs": [],
   "source": [
    "from pyspark import SparkContext\n",
    "sc = SparkContext()"
   ]
  },
  {
   "cell_type": "markdown",
   "metadata": {},
   "source": [
    "Para corroborar que ha funcionado la inicialización y carga del contexto Spark, se mira la configuración."
   ]
  },
  {
   "cell_type": "code",
   "execution_count": 2,
   "metadata": {
    "collapsed": false
   },
   "outputs": [],
   "source": [
    "conf = sc.getConf()"
   ]
  },
  {
   "cell_type": "code",
   "execution_count": 3,
   "metadata": {
    "collapsed": false,
    "scrolled": false
   },
   "outputs": [
    {
     "data": {
      "text/plain": [
       "[('spark.driver.port', '41663'),\n",
       " ('spark.driver.host', '172.17.0.2'),\n",
       " ('spark.rdd.compress', 'True'),\n",
       " ('spark.serializer.objectStreamReset', '100'),\n",
       " ('spark.master', 'local[*]'),\n",
       " ('spark.executor.id', 'driver'),\n",
       " ('spark.submit.deployMode', 'client'),\n",
       " ('spark.app.id', 'local-1610662371238'),\n",
       " ('spark.app.name', 'pyspark-shell')]"
      ]
     },
     "execution_count": 3,
     "metadata": {},
     "output_type": "execute_result"
    }
   ],
   "source": [
    "conf.getAll()"
   ]
  },
  {
   "cell_type": "markdown",
   "metadata": {},
   "source": [
    "## Parseado de los RDDs"
   ]
  },
  {
   "cell_type": "markdown",
   "metadata": {},
   "source": [
    "Carga de los datos"
   ]
  },
  {
   "cell_type": "code",
   "execution_count": 4,
   "metadata": {
    "collapsed": true
   },
   "outputs": [],
   "source": [
    "path_file1 = \"./indicadores_desarrollo.csv\"\n",
    "path_file2 = \"./indicadores_deuda.csv\""
   ]
  },
  {
   "cell_type": "code",
   "execution_count": 5,
   "metadata": {
    "collapsed": true
   },
   "outputs": [],
   "source": [
    "raw_data_desarrollo = sc.textFile(path_file1)\n",
    "raw_data_deuda = sc.textFile(path_file2, )"
   ]
  },
  {
   "cell_type": "markdown",
   "metadata": {},
   "source": [
    "Se comprueba que se han cargado correctamente los datos mediante una accion, en este caso la función count()."
   ]
  },
  {
   "cell_type": "code",
   "execution_count": 6,
   "metadata": {
    "collapsed": false,
    "scrolled": false
   },
   "outputs": [
    {
     "data": {
      "text/plain": [
       "(135, 125)"
      ]
     },
     "execution_count": 6,
     "metadata": {},
     "output_type": "execute_result"
    }
   ],
   "source": [
    "(raw_data_desarrollo.count(),raw_data_deuda.count())"
   ]
  },
  {
   "cell_type": "markdown",
   "metadata": {},
   "source": [
    "Conocer los datos mediante take(), para ver como están estructurados"
   ]
  },
  {
   "cell_type": "code",
   "execution_count": 7,
   "metadata": {
    "collapsed": false
   },
   "outputs": [
    {
     "data": {
      "text/plain": [
       "['country_name,country_code,anho,GC.DOD.TOTL.CN,GC.DOD.TOTL.GD.ZS,SP.DYN.CBRT.IN',\n",
       " 'Albania,ALB,2014 [YR2014],1023040800000,73.3202469198429,12.259',\n",
       " 'Albania,ALB,2015 [YR2015],1145500940000,79.8644448747259,12.197',\n",
       " 'Albania,ALB,2016 [YR2016],1188814490000,80.7355748396923,12.08',\n",
       " 'Australia,AUS,2014 [YR2014],674700000,0.042207528166503,13.2']"
      ]
     },
     "execution_count": 7,
     "metadata": {},
     "output_type": "execute_result"
    }
   ],
   "source": [
    "raw_data_desarrollo.take(5)"
   ]
  },
  {
   "cell_type": "code",
   "execution_count": 8,
   "metadata": {
    "collapsed": false,
    "scrolled": false
   },
   "outputs": [
    {
     "data": {
      "text/plain": [
       "['country_name,country_code,DT.AMT.BLAT.CD,DT.AMT.DLXF.CD,DT.AMT.DPNG.CD,DT.AMT.MLAT.CD,DT.AMT.OFFT.CD,DT.AMT.PBND.CD,DT.AMT.PCBK.CD,DT.AMT.PROP.CD,DT.AMT.PRVT.CD,DT.DIS.BLAT.CD,DT.DIS.DLXF.CD,DT.DIS.MLAT.CD,DT.DIS.OFFT.CD,DT.DIS.PCBK.CD,DT.DIS.PROP.CD,DT.DIS.PRVT.CD,DT.INT.BLAT.CD,DT.INT.DLXF.CD,DT.INT.DPNG.CD,DT.INT.MLAT.CD,DT.INT.OFFT.CD,DT.INT.PBND.CD,DT.INT.PCBK.CD,DT.INT.PROP.CD,DT.INT.PRVT.CD',\n",
       " 'Afghanistan,AFG,61739336.9,100847181.9,,39107845,100847181.9,,,,,49114729.4,72894453.7,23779724.3,72894453.7,,,,39903620.1,53239440.1,,13335820,53239440.1,,,,',\n",
       " 'Albania,ALB,54250280.6,790248675.2,514185620,182197616.7,236447897.3,0,39445139.5,170018.4,39615157.9,76050616.1,317194512.5,234321242.3,310371858.4,4542664.9,2279989.2,6822654.1,13847333.6,165602386.9,87884000,28101536.1,41948869.7,31030688.2,4618504.3,120324.7,35769517.2',\n",
       " 'Algeria,DZA,95188724.6,171185188.1,75420000,0,95188724.6,,576463.5,0,576463.5,10320772.2,10320772.2,,10320772.2,,,,7680627.6,19031728.7,3220000,8094779,15775406.6,,13192.3,23129.8,36322.1',\n",
       " 'Angola,AGO,8473824016.3,11067045628.1,,124688691.9,8598512708.2,1e+09,1125088719.9,343444200,2468532919.9,8838256901.1,10924018093.1,178989598.2,9017246499.3,1906771593.8,,1906771593.8,1005053965.1,1798550445.5,,47038476.1,1052092441.2,7e+07,580902004.3,95556000,746458004.3']"
      ]
     },
     "execution_count": 8,
     "metadata": {},
     "output_type": "execute_result"
    }
   ],
   "source": [
    "raw_data_deuda.take(5)"
   ]
  },
  {
   "cell_type": "markdown",
   "metadata": {},
   "source": [
    "Se elimina el header de las bases de datos"
   ]
  },
  {
   "cell_type": "code",
   "execution_count": 9,
   "metadata": {
    "collapsed": false
   },
   "outputs": [],
   "source": [
    "head_raw_data_desarrollo = raw_data_desarrollo.take(1)[0] #le damos un valor a take(1)[0]\n",
    "raw_data_desarrollo =  raw_data_desarrollo.filter(lambda x: x != head_raw_data_desarrollo) #creamos una funcion filter con lambda para eliminar la cabecera\n",
    "head_raw_data_deuda = raw_data_deuda.take(1)[0]\n",
    "raw_data_deuda =  raw_data_deuda.filter(lambda x: x != head_raw_data_deuda)"
   ]
  },
  {
   "cell_type": "code",
   "execution_count": 10,
   "metadata": {
    "collapsed": false,
    "scrolled": true
   },
   "outputs": [
    {
     "data": {
      "text/plain": [
       "['Albania,ALB,2014 [YR2014],1023040800000,73.3202469198429,12.259']"
      ]
     },
     "execution_count": 10,
     "metadata": {},
     "output_type": "execute_result"
    }
   ],
   "source": [
    "raw_data_desarrollo.take(1)"
   ]
  },
  {
   "cell_type": "code",
   "execution_count": 11,
   "metadata": {
    "collapsed": false,
    "scrolled": true
   },
   "outputs": [
    {
     "data": {
      "text/plain": [
       "['Afghanistan,AFG,61739336.9,100847181.9,,39107845,100847181.9,,,,,49114729.4,72894453.7,23779724.3,72894453.7,,,,39903620.1,53239440.1,,13335820,53239440.1,,,,']"
      ]
     },
     "execution_count": 11,
     "metadata": {},
     "output_type": "execute_result"
    }
   ],
   "source": [
    "raw_data_deuda.take(1)"
   ]
  },
  {
   "cell_type": "markdown",
   "metadata": {},
   "source": [
    "Se observa que efectivamente se han eliminado las cabeceras"
   ]
  },
  {
   "cell_type": "markdown",
   "metadata": {},
   "source": [
    "Previamente a contestar a las preguntas, se realizará el parseado de los datasets para dejarlos listos para trabajar con ellos"
   ]
  },
  {
   "cell_type": "code",
   "execution_count": 12,
   "metadata": {
    "collapsed": true
   },
   "outputs": [],
   "source": [
    "parsed_data_desarrollo = raw_data_desarrollo.map(lambda x: x.split(\",\")) #se indica que se separen las obs. mediante un map por la \",\"\n",
    "parsed_data_deuda = raw_data_deuda.map(lambda x: x.split(\",\"))"
   ]
  },
  {
   "cell_type": "code",
   "execution_count": 13,
   "metadata": {
    "collapsed": false,
    "scrolled": false
   },
   "outputs": [
    {
     "data": {
      "text/plain": [
       "2"
      ]
     },
     "execution_count": 13,
     "metadata": {},
     "output_type": "execute_result"
    }
   ],
   "source": [
    "parsed_data_desarrollo.map(lambda x: (len(x))).distinct().count()"
   ]
  },
  {
   "cell_type": "code",
   "execution_count": 14,
   "metadata": {
    "collapsed": false,
    "scrolled": true
   },
   "outputs": [
    {
     "data": {
      "text/plain": [
       "2"
      ]
     },
     "execution_count": 14,
     "metadata": {},
     "output_type": "execute_result"
    }
   ],
   "source": [
    "parsed_data_deuda.map(lambda x: (len(x))).distinct().count()"
   ]
  },
  {
   "cell_type": "markdown",
   "metadata": {},
   "source": [
    "Hay dos length distinta en el RDD, eso indica que hay valores que no se han parseado bien."
   ]
  },
  {
   "cell_type": "markdown",
   "metadata": {},
   "source": [
    "Vamos a observar donde está el error"
   ]
  },
  {
   "cell_type": "code",
   "execution_count": 15,
   "metadata": {
    "collapsed": false,
    "scrolled": false
   },
   "outputs": [
    {
     "data": {
      "text/plain": [
       "[(6, ['Albania', 'ALB']),\n",
       " (6, ['Albania', 'ALB']),\n",
       " (6, ['Albania', 'ALB']),\n",
       " (6, ['Australia', 'AUS']),\n",
       " (6, ['Australia', 'AUS']),\n",
       " (6, ['Australia', 'AUS']),\n",
       " (7, ['\"Bahamas', ' The\"']),\n",
       " (7, ['\"Bahamas', ' The\"']),\n",
       " (7, ['\"Bahamas', ' The\"']),\n",
       " (6, ['Barbados', 'BRB'])]"
      ]
     },
     "execution_count": 15,
     "metadata": {},
     "output_type": "execute_result"
    }
   ],
   "source": [
    "parsed_data_desarrollo.map(lambda x: (len(x), x[0:2])).take(10)"
   ]
  },
  {
   "cell_type": "markdown",
   "metadata": {},
   "source": [
    "Se observa que hay filas en las que length es 6 y otras con length igual a 7, esto es debido a que en las de 7 se ha separado parte del nombre del país."
   ]
  },
  {
   "cell_type": "code",
   "execution_count": 16,
   "metadata": {
    "collapsed": false,
    "scrolled": false
   },
   "outputs": [
    {
     "data": {
      "text/plain": [
       "[(6,\n",
       "  ['Albania',\n",
       "   'ALB',\n",
       "   '2014 [YR2014]',\n",
       "   '1023040800000',\n",
       "   '73.3202469198429',\n",
       "   '12.259']),\n",
       " (6,\n",
       "  ['Albania',\n",
       "   'ALB',\n",
       "   '2015 [YR2015]',\n",
       "   '1145500940000',\n",
       "   '79.8644448747259',\n",
       "   '12.197'])]"
      ]
     },
     "execution_count": 16,
     "metadata": {},
     "output_type": "execute_result"
    }
   ],
   "source": [
    "parsed_data_desarrollo.map(lambda x: (len(x), x)).filter(lambda x: x[0] == 6).take(2)"
   ]
  },
  {
   "cell_type": "markdown",
   "metadata": {},
   "source": [
    "Se guarda la lista que indica el length y la lista de datos"
   ]
  },
  {
   "cell_type": "code",
   "execution_count": 17,
   "metadata": {
    "collapsed": false,
    "scrolled": true
   },
   "outputs": [
    {
     "data": {
      "text/plain": [
       "[(6,\n",
       "  ['Albania',\n",
       "   'ALB',\n",
       "   '2014 [YR2014]',\n",
       "   '1023040800000',\n",
       "   '73.3202469198429',\n",
       "   '12.259']),\n",
       " (6,\n",
       "  ['Albania',\n",
       "   'ALB',\n",
       "   '2015 [YR2015]',\n",
       "   '1145500940000',\n",
       "   '79.8644448747259',\n",
       "   '12.197']),\n",
       " (6,\n",
       "  ['Albania',\n",
       "   'ALB',\n",
       "   '2016 [YR2016]',\n",
       "   '1188814490000',\n",
       "   '80.7355748396923',\n",
       "   '12.08']),\n",
       " (6,\n",
       "  ['Australia',\n",
       "   'AUS',\n",
       "   '2014 [YR2014]',\n",
       "   '674700000',\n",
       "   '0.042207528166503',\n",
       "   '13.2']),\n",
       " (6,\n",
       "  ['Australia',\n",
       "   'AUS',\n",
       "   '2015 [YR2015]',\n",
       "   '762718000',\n",
       "   '0.0469480198522591',\n",
       "   '12.9']),\n",
       " (6,\n",
       "  ['Australia',\n",
       "   'AUS',\n",
       "   '2016 [YR2016]',\n",
       "   '907555000',\n",
       "   '0.054648482520169',\n",
       "   '12.9']),\n",
       " (7,\n",
       "  ['\"Bahamas',\n",
       "   ' The\"',\n",
       "   'BHS',\n",
       "   '2014 [YR2014]',\n",
       "   '5158420000',\n",
       "   '47.2672793747079',\n",
       "   '14.34']),\n",
       " (7,\n",
       "  ['\"Bahamas',\n",
       "   ' The\"',\n",
       "   'BHS',\n",
       "   '2015 [YR2015]',\n",
       "   '5655150000',\n",
       "   '48.1195170307089',\n",
       "   '14.224']),\n",
       " (7,\n",
       "  ['\"Bahamas',\n",
       "   ' The\"',\n",
       "   'BHS',\n",
       "   '2016 [YR2016]',\n",
       "   '6138814000',\n",
       "   '51.4207431481606',\n",
       "   '14.131']),\n",
       " (6,\n",
       "  ['Barbados',\n",
       "   'BRB',\n",
       "   '2014 [YR2014]',\n",
       "   '12175704025',\n",
       "   '129.629591844133',\n",
       "   '10.916'])]"
      ]
     },
     "execution_count": 17,
     "metadata": {},
     "output_type": "execute_result"
    }
   ],
   "source": [
    "length_desarrollo = parsed_data_desarrollo.map(lambda x: (len(x), x))\n",
    "length_desarrollo.take(10)"
   ]
  },
  {
   "cell_type": "markdown",
   "metadata": {},
   "source": [
    "Se define una función que solucionará el problema, ya que cuando observe que hay un valor 7 en el length, lo que realizará será sumar el valor de la lista en la posición [0] y el de la posición [1]."
   ]
  },
  {
   "cell_type": "code",
   "execution_count": 22,
   "metadata": {
    "collapsed": false
   },
   "outputs": [],
   "source": [
    "def parse_desarrollo(line):\n",
    "    if line[0] == 6:\n",
    "        return line[1]\n",
    "    else:\n",
    "        l = line[1][1:]\n",
    "        return l.insert(0, line[1][0] + line[1][1])"
   ]
  },
  {
   "cell_type": "code",
   "execution_count": 23,
   "metadata": {
    "collapsed": false,
    "scrolled": true
   },
   "outputs": [
    {
     "data": {
      "text/plain": [
       "[['Albania',\n",
       "  'ALB',\n",
       "  '2014 [YR2014]',\n",
       "  '1023040800000',\n",
       "  '73.3202469198429',\n",
       "  '12.259'],\n",
       " ['Albania',\n",
       "  'ALB',\n",
       "  '2015 [YR2015]',\n",
       "  '1145500940000',\n",
       "  '79.8644448747259',\n",
       "  '12.197'],\n",
       " ['Albania',\n",
       "  'ALB',\n",
       "  '2016 [YR2016]',\n",
       "  '1188814490000',\n",
       "  '80.7355748396923',\n",
       "  '12.08'],\n",
       " ['Australia',\n",
       "  'AUS',\n",
       "  '2014 [YR2014]',\n",
       "  '674700000',\n",
       "  '0.042207528166503',\n",
       "  '13.2'],\n",
       " ['Australia',\n",
       "  'AUS',\n",
       "  '2015 [YR2015]',\n",
       "  '762718000',\n",
       "  '0.0469480198522591',\n",
       "  '12.9'],\n",
       " ['Australia',\n",
       "  'AUS',\n",
       "  '2016 [YR2016]',\n",
       "  '907555000',\n",
       "  '0.054648482520169',\n",
       "  '12.9'],\n",
       " None]"
      ]
     },
     "execution_count": 23,
     "metadata": {},
     "output_type": "execute_result"
    }
   ],
   "source": [
    "parsed_data_desarrollo1 = length_desarrollo.map(lambda x: parse_desarrollo(x))\n",
    "parsed_data_desarrollo1.take(7)"
   ]
  },
  {
   "cell_type": "code",
   "execution_count": 24,
   "metadata": {
    "collapsed": false
   },
   "outputs": [
    {
     "data": {
      "text/plain": [
       "[(27, ['Afghanistan', 'AFG']),\n",
       " (27, ['Albania', 'ALB']),\n",
       " (27, ['Algeria', 'DZA']),\n",
       " (27, ['Angola', 'AGO']),\n",
       " (27, ['Armenia', 'ARM']),\n",
       " (27, ['Azerbaijan', 'AZE']),\n",
       " (27, ['Bangladesh', 'BGD']),\n",
       " (27, ['Belarus', 'BLR']),\n",
       " (27, ['Belize', 'BLZ']),\n",
       " (27, ['Benin', 'BEN'])]"
      ]
     },
     "execution_count": 24,
     "metadata": {},
     "output_type": "execute_result"
    }
   ],
   "source": [
    "parsed_data_deuda.map(lambda x: (len(x), x[0:2])).take(10)"
   ]
  },
  {
   "cell_type": "markdown",
   "metadata": {},
   "source": [
    "Realizamos lo mismo para la base de datos de deuda. En este caso vamos a buscar cual es la diferencia de length mediante un filtrado ya que al observar sus distancias es dificil encontrar el valor distinto de 27."
   ]
  },
  {
   "cell_type": "code",
   "execution_count": 25,
   "metadata": {
    "collapsed": false,
    "scrolled": false
   },
   "outputs": [],
   "source": [
    "deuda_27 = parsed_data_deuda.map(lambda x: (len(x), x[0:2]))"
   ]
  },
  {
   "cell_type": "markdown",
   "metadata": {},
   "source": [
    "Para saber la distancia que no es igual a 27 hacemos:"
   ]
  },
  {
   "cell_type": "code",
   "execution_count": 26,
   "metadata": {
    "collapsed": false,
    "scrolled": true
   },
   "outputs": [
    {
     "data": {
      "text/plain": [
       "[(28, ['\"Congo', ' Dem. Rep.\"']),\n",
       " (28, ['\"Congo', ' Rep.\"']),\n",
       " (28, ['\"Egypt', ' Arab Rep.\"']),\n",
       " (28, ['\"Gambia', ' The\"']),\n",
       " (28, ['\"Iran', ' Islamic Rep.\"'])]"
      ]
     },
     "execution_count": 26,
     "metadata": {},
     "output_type": "execute_result"
    }
   ],
   "source": [
    "deuda_27.filter(lambda x: x[0] != 27).take(5)"
   ]
  },
  {
   "cell_type": "markdown",
   "metadata": {},
   "source": [
    "Se observa que para la base de datos de deuda, hay filas con un length de 28 por el mismo motivo que para la base de datos de desarrollo"
   ]
  },
  {
   "cell_type": "markdown",
   "metadata": {},
   "source": [
    "Guardamos la lista que indica el length y la lista"
   ]
  },
  {
   "cell_type": "code",
   "execution_count": 27,
   "metadata": {
    "collapsed": false
   },
   "outputs": [
    {
     "data": {
      "text/plain": [
       "[(27,\n",
       "  ['Afghanistan',\n",
       "   'AFG',\n",
       "   '61739336.9',\n",
       "   '100847181.9',\n",
       "   '',\n",
       "   '39107845',\n",
       "   '100847181.9',\n",
       "   '',\n",
       "   '',\n",
       "   '',\n",
       "   '',\n",
       "   '49114729.4',\n",
       "   '72894453.7',\n",
       "   '23779724.3',\n",
       "   '72894453.7',\n",
       "   '',\n",
       "   '',\n",
       "   '',\n",
       "   '39903620.1',\n",
       "   '53239440.1',\n",
       "   '',\n",
       "   '13335820',\n",
       "   '53239440.1',\n",
       "   '',\n",
       "   '',\n",
       "   '',\n",
       "   '']),\n",
       " (27,\n",
       "  ['Albania',\n",
       "   'ALB',\n",
       "   '54250280.6',\n",
       "   '790248675.2',\n",
       "   '514185620',\n",
       "   '182197616.7',\n",
       "   '236447897.3',\n",
       "   '0',\n",
       "   '39445139.5',\n",
       "   '170018.4',\n",
       "   '39615157.9',\n",
       "   '76050616.1',\n",
       "   '317194512.5',\n",
       "   '234321242.3',\n",
       "   '310371858.4',\n",
       "   '4542664.9',\n",
       "   '2279989.2',\n",
       "   '6822654.1',\n",
       "   '13847333.6',\n",
       "   '165602386.9',\n",
       "   '87884000',\n",
       "   '28101536.1',\n",
       "   '41948869.7',\n",
       "   '31030688.2',\n",
       "   '4618504.3',\n",
       "   '120324.7',\n",
       "   '35769517.2']),\n",
       " (27,\n",
       "  ['Algeria',\n",
       "   'DZA',\n",
       "   '95188724.6',\n",
       "   '171185188.1',\n",
       "   '75420000',\n",
       "   '0',\n",
       "   '95188724.6',\n",
       "   '',\n",
       "   '576463.5',\n",
       "   '0',\n",
       "   '576463.5',\n",
       "   '10320772.2',\n",
       "   '10320772.2',\n",
       "   '',\n",
       "   '10320772.2',\n",
       "   '',\n",
       "   '',\n",
       "   '',\n",
       "   '7680627.6',\n",
       "   '19031728.7',\n",
       "   '3220000',\n",
       "   '8094779',\n",
       "   '15775406.6',\n",
       "   '',\n",
       "   '13192.3',\n",
       "   '23129.8',\n",
       "   '36322.1']),\n",
       " (27,\n",
       "  ['Angola',\n",
       "   'AGO',\n",
       "   '8473824016.3',\n",
       "   '11067045628.1',\n",
       "   '',\n",
       "   '124688691.9',\n",
       "   '8598512708.2',\n",
       "   '1e+09',\n",
       "   '1125088719.9',\n",
       "   '343444200',\n",
       "   '2468532919.9',\n",
       "   '8838256901.1',\n",
       "   '10924018093.1',\n",
       "   '178989598.2',\n",
       "   '9017246499.3',\n",
       "   '1906771593.8',\n",
       "   '',\n",
       "   '1906771593.8',\n",
       "   '1005053965.1',\n",
       "   '1798550445.5',\n",
       "   '',\n",
       "   '47038476.1',\n",
       "   '1052092441.2',\n",
       "   '7e+07',\n",
       "   '580902004.3',\n",
       "   '95556000',\n",
       "   '746458004.3']),\n",
       " (27,\n",
       "  ['Armenia',\n",
       "   'ARM',\n",
       "   '68968314.7',\n",
       "   '845630723.8',\n",
       "   '680696190',\n",
       "   '94331207.1',\n",
       "   '163299521.8',\n",
       "   '0',\n",
       "   '1635012',\n",
       "   '',\n",
       "   '1635012',\n",
       "   '174269846.7',\n",
       "   '426959175.6',\n",
       "   '252689328.9',\n",
       "   '426959175.6',\n",
       "   '',\n",
       "   '',\n",
       "   '',\n",
       "   '24094832',\n",
       "   '275292981.1',\n",
       "   '128076000',\n",
       "   '57171463.9',\n",
       "   '81266295.9',\n",
       "   '65754000',\n",
       "   '196685.2',\n",
       "   '',\n",
       "   '65950685.2'])]"
      ]
     },
     "execution_count": 27,
     "metadata": {},
     "output_type": "execute_result"
    }
   ],
   "source": [
    "length_deuda = parsed_data_deuda.map(lambda x: (len(x), x))\n",
    "length_deuda.take(5)"
   ]
  },
  {
   "cell_type": "markdown",
   "metadata": {},
   "source": [
    "Creamos una función con la misma finalidad que para la base de datos de desarrollo"
   ]
  },
  {
   "cell_type": "code",
   "execution_count": 28,
   "metadata": {
    "collapsed": true
   },
   "outputs": [],
   "source": [
    "def parse_deuda(line):\n",
    "    if line[0] == 27:\n",
    "        return line[1]\n",
    "    else:\n",
    "        l = line[1][1:]\n",
    "        return l.insert(0, line[1][0] + line[1][1])"
   ]
  },
  {
   "cell_type": "markdown",
   "metadata": {},
   "source": [
    "La ejecutamos sobre la lista"
   ]
  },
  {
   "cell_type": "code",
   "execution_count": 29,
   "metadata": {
    "collapsed": false,
    "scrolled": true
   },
   "outputs": [
    {
     "data": {
      "text/plain": [
       "[['Afghanistan',\n",
       "  'AFG',\n",
       "  '61739336.9',\n",
       "  '100847181.9',\n",
       "  '',\n",
       "  '39107845',\n",
       "  '100847181.9',\n",
       "  '',\n",
       "  '',\n",
       "  '',\n",
       "  '',\n",
       "  '49114729.4',\n",
       "  '72894453.7',\n",
       "  '23779724.3',\n",
       "  '72894453.7',\n",
       "  '',\n",
       "  '',\n",
       "  '',\n",
       "  '39903620.1',\n",
       "  '53239440.1',\n",
       "  '',\n",
       "  '13335820',\n",
       "  '53239440.1',\n",
       "  '',\n",
       "  '',\n",
       "  '',\n",
       "  ''],\n",
       " ['Albania',\n",
       "  'ALB',\n",
       "  '54250280.6',\n",
       "  '790248675.2',\n",
       "  '514185620',\n",
       "  '182197616.7',\n",
       "  '236447897.3',\n",
       "  '0',\n",
       "  '39445139.5',\n",
       "  '170018.4',\n",
       "  '39615157.9',\n",
       "  '76050616.1',\n",
       "  '317194512.5',\n",
       "  '234321242.3',\n",
       "  '310371858.4',\n",
       "  '4542664.9',\n",
       "  '2279989.2',\n",
       "  '6822654.1',\n",
       "  '13847333.6',\n",
       "  '165602386.9',\n",
       "  '87884000',\n",
       "  '28101536.1',\n",
       "  '41948869.7',\n",
       "  '31030688.2',\n",
       "  '4618504.3',\n",
       "  '120324.7',\n",
       "  '35769517.2']]"
      ]
     },
     "execution_count": 29,
     "metadata": {},
     "output_type": "execute_result"
    }
   ],
   "source": [
    "parsed_data_deuda1 = length_deuda.map(lambda x: parse_deuda(x))\n",
    "parsed_data_deuda1.take(2)"
   ]
  },
  {
   "cell_type": "markdown",
   "metadata": {},
   "source": [
    "Observamos mediante count que siguen habiendo los mismo registros"
   ]
  },
  {
   "cell_type": "code",
   "execution_count": 31,
   "metadata": {
    "collapsed": false,
    "scrolled": true
   },
   "outputs": [],
   "source": [
    "#parsed_data_desarrollo1.map(lambda x: (len(x))).distinct().count()"
   ]
  },
  {
   "cell_type": "code",
   "execution_count": 55,
   "metadata": {
    "collapsed": false,
    "scrolled": true
   },
   "outputs": [
    {
     "data": {
      "text/plain": [
       "(134, 124)"
      ]
     },
     "execution_count": 55,
     "metadata": {},
     "output_type": "execute_result"
    }
   ],
   "source": [
    "(parsed_data_desarrollo1.count(), parsed_data_deuda1.count())"
   ]
  },
  {
   "cell_type": "markdown",
   "metadata": {},
   "source": [
    "El parseado realizado da problemas, se realizará mediante filtrado"
   ]
  },
  {
   "cell_type": "markdown",
   "metadata": {},
   "source": [
    "#### Parseado mediante filtro del dataset Desarrollo"
   ]
  },
  {
   "cell_type": "code",
   "execution_count": 32,
   "metadata": {
    "collapsed": true
   },
   "outputs": [],
   "source": [
    "desarrollo_length7 = parsed_data_desarrollo.filter(lambda x: (len(x) != 6)) #filtramos por los que tengan un length distinto de 6"
   ]
  },
  {
   "cell_type": "code",
   "execution_count": 33,
   "metadata": {
    "collapsed": false
   },
   "outputs": [],
   "source": [
    "desarrollo_length7 = desarrollo_length7.map(lambda x: (x[0],x[2],x[3],x[4],x[5],x[6])) #no queremos el valor que esta en la posición 1, por lo que no se selecciona"
   ]
  },
  {
   "cell_type": "code",
   "execution_count": 34,
   "metadata": {
    "collapsed": true
   },
   "outputs": [],
   "source": [
    "parsed_data_desarrollo = parsed_data_desarrollo.filter(lambda x: (len(x)== 6)) #filtramos por los que tengan length igual a 6"
   ]
  },
  {
   "cell_type": "code",
   "execution_count": 35,
   "metadata": {
    "collapsed": true
   },
   "outputs": [],
   "source": [
    "parsed_data_desarrollo = parsed_data_desarrollo.union(desarrollo_length7) #unimos los dos rdds."
   ]
  },
  {
   "cell_type": "code",
   "execution_count": 36,
   "metadata": {
    "collapsed": false,
    "scrolled": true
   },
   "outputs": [
    {
     "data": {
      "text/plain": [
       "[['Albania',\n",
       "  'ALB',\n",
       "  '2014 [YR2014]',\n",
       "  '1023040800000',\n",
       "  '73.3202469198429',\n",
       "  '12.259'],\n",
       " ['Albania',\n",
       "  'ALB',\n",
       "  '2015 [YR2015]',\n",
       "  '1145500940000',\n",
       "  '79.8644448747259',\n",
       "  '12.197'],\n",
       " ['Albania',\n",
       "  'ALB',\n",
       "  '2016 [YR2016]',\n",
       "  '1188814490000',\n",
       "  '80.7355748396923',\n",
       "  '12.08'],\n",
       " ['Australia',\n",
       "  'AUS',\n",
       "  '2014 [YR2014]',\n",
       "  '674700000',\n",
       "  '0.042207528166503',\n",
       "  '13.2'],\n",
       " ['Australia',\n",
       "  'AUS',\n",
       "  '2015 [YR2015]',\n",
       "  '762718000',\n",
       "  '0.0469480198522591',\n",
       "  '12.9'],\n",
       " ['Australia',\n",
       "  'AUS',\n",
       "  '2016 [YR2016]',\n",
       "  '907555000',\n",
       "  '0.054648482520169',\n",
       "  '12.9'],\n",
       " ['Barbados',\n",
       "  'BRB',\n",
       "  '2014 [YR2014]',\n",
       "  '12175704025',\n",
       "  '129.629591844133',\n",
       "  '10.916']]"
      ]
     },
     "execution_count": 36,
     "metadata": {},
     "output_type": "execute_result"
    }
   ],
   "source": [
    "parsed_data_desarrollo.take(7)"
   ]
  },
  {
   "cell_type": "markdown",
   "metadata": {},
   "source": [
    "#### Parseado mediante filtro para el dataset de Deuda"
   ]
  },
  {
   "cell_type": "code",
   "execution_count": 37,
   "metadata": {
    "collapsed": true
   },
   "outputs": [],
   "source": [
    "deuda_length28 = parsed_data_deuda.filter(lambda x: (len(x) != 27))"
   ]
  },
  {
   "cell_type": "code",
   "execution_count": 38,
   "metadata": {
    "collapsed": true
   },
   "outputs": [],
   "source": [
    "deuda_length28 = deuda_length28.map(lambda x: (x[0],x[2],x[3],x[4],x[5],x[6],x[7],x[8],x[9],x[10],x[11],x[12],x[13],x[14],x[15],x[16],x[17],x[18],x[19],x[20],x[21],x[22],x[23],x[24],x[25],x[26],x[27]))"
   ]
  },
  {
   "cell_type": "code",
   "execution_count": 39,
   "metadata": {
    "collapsed": true
   },
   "outputs": [],
   "source": [
    "parsed_data_deuda = parsed_data_deuda.filter(lambda x: (len(x) == 27))"
   ]
  },
  {
   "cell_type": "code",
   "execution_count": 40,
   "metadata": {
    "collapsed": false
   },
   "outputs": [],
   "source": [
    "parsed_data_deuda = parsed_data_deuda.union(deuda_length28)"
   ]
  },
  {
   "cell_type": "code",
   "execution_count": 41,
   "metadata": {
    "collapsed": false,
    "scrolled": true
   },
   "outputs": [
    {
     "data": {
      "text/plain": [
       "[['Afghanistan',\n",
       "  'AFG',\n",
       "  '61739336.9',\n",
       "  '100847181.9',\n",
       "  '',\n",
       "  '39107845',\n",
       "  '100847181.9',\n",
       "  '',\n",
       "  '',\n",
       "  '',\n",
       "  '',\n",
       "  '49114729.4',\n",
       "  '72894453.7',\n",
       "  '23779724.3',\n",
       "  '72894453.7',\n",
       "  '',\n",
       "  '',\n",
       "  '',\n",
       "  '39903620.1',\n",
       "  '53239440.1',\n",
       "  '',\n",
       "  '13335820',\n",
       "  '53239440.1',\n",
       "  '',\n",
       "  '',\n",
       "  '',\n",
       "  '']]"
      ]
     },
     "execution_count": 41,
     "metadata": {},
     "output_type": "execute_result"
    }
   ],
   "source": [
    "parsed_data_deuda.take(1)"
   ]
  },
  {
   "cell_type": "code",
   "execution_count": 42,
   "metadata": {
    "collapsed": false,
    "scrolled": true
   },
   "outputs": [
    {
     "data": {
      "text/plain": [
       "1"
      ]
     },
     "execution_count": 42,
     "metadata": {},
     "output_type": "execute_result"
    }
   ],
   "source": [
    "parsed_data_desarrollo.map(lambda x: (len(x))).distinct().count()"
   ]
  },
  {
   "cell_type": "code",
   "execution_count": 43,
   "metadata": {
    "collapsed": false
   },
   "outputs": [
    {
     "data": {
      "text/plain": [
       "1"
      ]
     },
     "execution_count": 43,
     "metadata": {},
     "output_type": "execute_result"
    }
   ],
   "source": [
    "parsed_data_deuda.map(lambda x: (len(x))).distinct().count()"
   ]
  },
  {
   "cell_type": "code",
   "execution_count": 44,
   "metadata": {
    "collapsed": false,
    "scrolled": false
   },
   "outputs": [
    {
     "data": {
      "text/plain": [
       "(124, 134)"
      ]
     },
     "execution_count": 44,
     "metadata": {},
     "output_type": "execute_result"
    }
   ],
   "source": [
    "parsed_data_deuda.count(), parsed_data_desarrollo.count()"
   ]
  },
  {
   "cell_type": "markdown",
   "metadata": {},
   "source": [
    "Se define una función para que elimine los valores nulos y pase a float todas las observaciones que deban pasarse a float."
   ]
  },
  {
   "cell_type": "code",
   "execution_count": 46,
   "metadata": {
    "collapsed": true
   },
   "outputs": [],
   "source": [
    "def to_float(x):\n",
    "    if x in [\"\", \" \", \"nan\", \"null\", \"NULL\", \"Null\", \"NaN\", \"Na\"]:\n",
    "        return 0.0\n",
    "    else:\n",
    "        return float(x)"
   ]
  },
  {
   "cell_type": "markdown",
   "metadata": {},
   "source": [
    "##### 2. Número de países distintos en cada dataset. Coinciden?"
   ]
  },
  {
   "cell_type": "markdown",
   "metadata": {},
   "source": [
    "Para conocer el número de países distintos en cada dataset y si estos coinciden, se utilizarán las siguientes funciones:\n",
    "- Distinct(), esta función devuelve un nuevo RDD con valores únicos."
   ]
  },
  {
   "cell_type": "code",
   "execution_count": 45,
   "metadata": {
    "collapsed": false,
    "scrolled": true
   },
   "outputs": [
    {
     "data": {
      "text/plain": [
       "(123, 51)"
      ]
     },
     "execution_count": 45,
     "metadata": {},
     "output_type": "execute_result"
    }
   ],
   "source": [
    "country_deuda = parsed_data_deuda.map(lambda x: x[0]).distinct() #seleeciona el valor en la posicion 0 (country) y le pedimos que devuelva los valores sin repeticiones\n",
    "country_desarrollo = parsed_data_desarrollo.map(lambda x: x[0]).distinct()\n",
    "(country_deuda.count(), country_desarrollo.count())"
   ]
  },
  {
   "cell_type": "markdown",
   "metadata": {},
   "source": [
    "Observando que el número de valores únicos en country_deuda es de 123 y de country_desarrollo es de 51, queda claro que no coinciden."
   ]
  },
  {
   "cell_type": "markdown",
   "metadata": {},
   "source": [
    "##### 3. Total de deuda contraida por cada pais: total amount of debt (in USD) DT.AMT.MLAT.CD"
   ]
  },
  {
   "cell_type": "code",
   "execution_count": 51,
   "metadata": {
    "collapsed": false
   },
   "outputs": [
    {
     "data": {
      "text/plain": [
       "[('South Asia', 7851739929.5),\n",
       " ('IDA only', 4884095623.3),\n",
       " ('India', 4545609909.9),\n",
       " ('Least developed countries: UN classification', 4084275524.2),\n",
       " ('Turkey', 2932698678.0),\n",
       " ('China', 2615723714.1),\n",
       " ('Brazil', 2514318741.6),\n",
       " ('Indonesia', 2469145824.7),\n",
       " ('\"Egypt', 2424904078.0),\n",
       " ('Romania', 1798305095.8),\n",
       " ('Pakistan', 1578651453.9),\n",
       " ('Morocco', 1381649282.3),\n",
       " ('Colombia', 1100907553.6),\n",
       " ('Kazakhstan', 1079948889.7),\n",
       " ('Ukraine', 1072472830.3),\n",
       " ('Bangladesh', 1039564682.7),\n",
       " ('Tunisia', 956604000.1),\n",
       " ('Vietnam', 947632152.5),\n",
       " ('Mexico', 864181883.5),\n",
       " ('Philippines', 739056427.3),\n",
       " ('Serbia', 715223963.7),\n",
       " ('Belarus', 595438826.0),\n",
       " ('Ecuador', 578894793.9),\n",
       " ('Peru', 553634090.0),\n",
       " ('Azerbaijan', 513623656.5),\n",
       " ('\"Venezuela', 509512564.6),\n",
       " ('Sri Lanka', 449771961.1),\n",
       " ('Kenya', 391340889.9),\n",
       " ('Bolivia', 357721211.5),\n",
       " ('South Africa', 346393763.9),\n",
       " ('Guatemala', 339822253.6),\n",
       " ('El Salvador', 298939687.1),\n",
       " ('Nigeria', 297246686.6),\n",
       " ('Bosnia and Herzegovina', 290170946.5),\n",
       " ('Costa Rica', 272808260.7),\n",
       " ('Jordan', 270498715.5),\n",
       " ('Dominican Republic', 254728306.1),\n",
       " ('Uzbekistan', 244240575.6),\n",
       " ('Bulgaria', 228993019.8),\n",
       " ('\"Yemen', 220743129.9),\n",
       " ('Sudan', 217194878.8),\n",
       " ('Paraguay', 207662030.9),\n",
       " ('\"Macedonia', 185952867.2),\n",
       " ('Mauritania', 184408220.2),\n",
       " ('Albania', 182197616.7),\n",
       " ('Nicaragua', 181115898.0),\n",
       " ('Jamaica', 174427648.0),\n",
       " ('Ethiopia', 171590722.7),\n",
       " ('Senegal', 170437929.1),\n",
       " ('Lebanon', 167638089.7),\n",
       " ('Nepal', 163747512.9),\n",
       " ('\"Congo', 161219931.0),\n",
       " ('Cameroon', 152095968.1),\n",
       " ('Honduras', 148225048.7),\n",
       " ('Syrian Arab Republic', 147903571.1),\n",
       " ('Uganda', 145310077.2),\n",
       " ('Georgia', 144062401.5),\n",
       " ('Russian Federation', 141669500.0),\n",
       " ('Tanzania', 141436637.0),\n",
       " ('Moldova', 135842865.5),\n",
       " ('Mali', 135472245.9),\n",
       " ('Ghana', 130202003.1),\n",
       " ('Botswana', 125652344.5),\n",
       " ('Angola', 124688691.9),\n",
       " ('Burkina Faso', 119510893.0),\n",
       " ('Niger', 115132364.5),\n",
       " ('Chad', 95738709.5),\n",
       " ('Armenia', 94331207.1),\n",
       " ('Benin', 91631639.5),\n",
       " ('Mozambique', 91225626.1),\n",
       " (\"Cote d'Ivoire\", 84629406.5),\n",
       " ('Lao PDR', 80684114.6),\n",
       " ('\"Iran', 78354060.8),\n",
       " ('Papua New Guinea', 78345326.0),\n",
       " ('Montenegro', 77948064.8),\n",
       " ('Mongolia', 75937145.9),\n",
       " ('Kyrgyz Republic', 75278037.2),\n",
       " ('Mauritius', 74568335.5),\n",
       " ('Cambodia', 72307001.8),\n",
       " ('Gabon', 62404132.3),\n",
       " ('Madagascar', 60669367.3),\n",
       " ('Tajikistan', 59062982.0),\n",
       " ('Zambia', 53068964.9),\n",
       " ('Togo', 44198800.7),\n",
       " ('Cabo Verde', 39970124.9),\n",
       " ('Afghanistan', 39107845.0),\n",
       " ('Thailand', 39071571.5),\n",
       " ('Malawi', 35659831.4),\n",
       " ('Guyana', 34651806.5),\n",
       " ('Djibouti', 34254909.2),\n",
       " ('Kosovo', 33590154.6),\n",
       " ('\"Gambia', 33231516.7),\n",
       " ('Lesotho', 32459403.7),\n",
       " ('Rwanda', 31090382.5),\n",
       " ('Myanmar', 30569845.2),\n",
       " ('Guinea', 29819676.8),\n",
       " ('Belize', 29683326.5),\n",
       " ('Zimbabwe', 26697905.1),\n",
       " ('Somalia', 24683262.9),\n",
       " ('Sierra Leone', 24144262.8),\n",
       " ('St. Vincent and the Grenadines', 21615600.7),\n",
       " ('Eswatini', 18130218.8),\n",
       " ('Maldives', 17896143.5),\n",
       " ('Bhutan', 17390420.5),\n",
       " ('Burundi', 16115111.8),\n",
       " ('Eritrea', 15482475.4),\n",
       " ('St. Lucia', 15019216.3),\n",
       " ('Grenada', 13740888.8),\n",
       " ('Dominica', 11130355.8),\n",
       " ('Haiti', 10087968.8),\n",
       " ('Samoa', 9987486.6),\n",
       " ('Fiji', 9082442.6),\n",
       " ('Liberia', 7383619.4),\n",
       " ('Guinea-Bissau', 6713257.2),\n",
       " ('Turkmenistan', 5831189.2),\n",
       " ('Solomon Islands', 3952828.9),\n",
       " ('Tonga', 2791253.2),\n",
       " ('Vanuatu', 2593419.3),\n",
       " ('Sao Tome and Principe', 2418947.6),\n",
       " ('Central African Republic', 2241813.8),\n",
       " ('Comoros', 2182053.1),\n",
       " ('Timor-Leste', 825000.0),\n",
       " ('Algeria', 0.0)]"
      ]
     },
     "execution_count": 51,
     "metadata": {},
     "output_type": "execute_result"
    }
   ],
   "source": [
    "parsed_data_deuda.map(lambda x: (x[0], to_float(x[5]))).reduceByKey(lambda x, y: x+y).sortBy(lambda x: x[1], ascending = False).collect()\n",
    "#mediante un map se seleccionan las columnas del país y de la variable a analizar, con esto se crea un key value.\n",
    "#posteriormente se utiliza un reduce by key (por eso se hace el map anterior) para que sume los valores de la deuda (suma todos los años).\n",
    "#Por último se ordena de mayor a menor por la variable de la deuda y se hace un collect para que devuelva todos los valores."
   ]
  },
  {
   "cell_type": "markdown",
   "metadata": {},
   "source": [
    "Otra forma de hacerlo, agrupa por país y por la variable a analizar."
   ]
  },
  {
   "cell_type": "code",
   "execution_count": 54,
   "metadata": {
    "collapsed": false,
    "scrolled": true
   },
   "outputs": [
    {
     "data": {
      "text/plain": [
       "[(('Solomon Islands', 3952828.9),\n",
       "  <pyspark.resultiterable.ResultIterable at 0x7f65ebd61550>),\n",
       " (('Vanuatu', 2593419.3),\n",
       "  <pyspark.resultiterable.ResultIterable at 0x7f65ebd61588>),\n",
       " (('Least developed countries: UN classification', 4084275524.2),\n",
       "  <pyspark.resultiterable.ResultIterable at 0x7f65ebd61748>),\n",
       " (('South Asia', 7851739929.5),\n",
       "  <pyspark.resultiterable.ResultIterable at 0x7f65ebd616a0>),\n",
       " (('Burundi', 16115111.8),\n",
       "  <pyspark.resultiterable.ResultIterable at 0x7f65ebd61898>),\n",
       " (('Uganda', 145310077.2),\n",
       "  <pyspark.resultiterable.ResultIterable at 0x7f65ebd61940>),\n",
       " (('Montenegro', 77948064.8),\n",
       "  <pyspark.resultiterable.ResultIterable at 0x7f65ebd619b0>),\n",
       " (('Gabon', 62404132.3),\n",
       "  <pyspark.resultiterable.ResultIterable at 0x7f65ebd617b8>),\n",
       " (('\"Venezuela', 509512564.6),\n",
       "  <pyspark.resultiterable.ResultIterable at 0x7f65ebd61b70>),\n",
       " (('Serbia', 715223963.7),\n",
       "  <pyspark.resultiterable.ResultIterable at 0x7f65ebd61c18>),\n",
       " (('Afghanistan', 39107845.0),\n",
       "  <pyspark.resultiterable.ResultIterable at 0x7f65ebd61c88>),\n",
       " (('Togo', 44198800.7),\n",
       "  <pyspark.resultiterable.ResultIterable at 0x7f65ebd61d30>),\n",
       " (('Nepal', 163747512.9),\n",
       "  <pyspark.resultiterable.ResultIterable at 0x7f65ebd61dd8>),\n",
       " (('St. Vincent and the Grenadines', 21615600.7),\n",
       "  <pyspark.resultiterable.ResultIterable at 0x7f65ebd61eb8>),\n",
       " (('Algeria', 0.0), <pyspark.resultiterable.ResultIterable at 0x7f65ebd61f98>),\n",
       " (('Djibouti', 34254909.2),\n",
       "  <pyspark.resultiterable.ResultIterable at 0x7f65ebd61a58>),\n",
       " (('Lesotho', 32459403.7),\n",
       "  <pyspark.resultiterable.ResultIterable at 0x7f65ebd692e8>),\n",
       " (('Burkina Faso', 119510893.0),\n",
       "  <pyspark.resultiterable.ResultIterable at 0x7f65ebd693c8>),\n",
       " (('Dominica', 11130355.8),\n",
       "  <pyspark.resultiterable.ResultIterable at 0x7f65ebd69438>),\n",
       " (('Zimbabwe', 26697905.1),\n",
       "  <pyspark.resultiterable.ResultIterable at 0x7f65ebd69518>),\n",
       " (('Armenia', 94331207.1),\n",
       "  <pyspark.resultiterable.ResultIterable at 0x7f65ebd695f8>),\n",
       " (('IDA only', 4884095623.3),\n",
       "  <pyspark.resultiterable.ResultIterable at 0x7f65ebd696d8>),\n",
       " (('\"Congo', 18114469.0),\n",
       "  <pyspark.resultiterable.ResultIterable at 0x7f65ebd69780>),\n",
       " (('Ukraine', 1072472830.3),\n",
       "  <pyspark.resultiterable.ResultIterable at 0x7f65ebd698d0>),\n",
       " (('Comoros', 2182053.1),\n",
       "  <pyspark.resultiterable.ResultIterable at 0x7f65ebd699b0>),\n",
       " (('\"Egypt', 2424904078.0),\n",
       "  <pyspark.resultiterable.ResultIterable at 0x7f65ebd69ac8>),\n",
       " (('Timor-Leste', 825000.0),\n",
       "  <pyspark.resultiterable.ResultIterable at 0x7f65ebd69ba8>),\n",
       " (('Belize', 29683326.5),\n",
       "  <pyspark.resultiterable.ResultIterable at 0x7f65ebd69dd8>),\n",
       " (('Fiji', 9082442.6),\n",
       "  <pyspark.resultiterable.ResultIterable at 0x7f65ebd69ef0>),\n",
       " (('Honduras', 148225048.7),\n",
       "  <pyspark.resultiterable.ResultIterable at 0x7f65ebd6e048>),\n",
       " (('\"Gambia', 33231516.7),\n",
       "  <pyspark.resultiterable.ResultIterable at 0x7f65ebd6e198>),\n",
       " (('Bhutan', 17390420.5),\n",
       "  <pyspark.resultiterable.ResultIterable at 0x7f65ebd69160>),\n",
       " (('Georgia', 144062401.5),\n",
       "  <pyspark.resultiterable.ResultIterable at 0x7f65ebd6e3c8>),\n",
       " (('Moldova', 135842865.5),\n",
       "  <pyspark.resultiterable.ResultIterable at 0x7f65ebd6e470>),\n",
       " (('Kosovo', 33590154.6),\n",
       "  <pyspark.resultiterable.ResultIterable at 0x7f65ebd6e588>),\n",
       " (('Ethiopia', 171590722.7),\n",
       "  <pyspark.resultiterable.ResultIterable at 0x7f65ebd6e6a0>),\n",
       " (('Albania', 182197616.7),\n",
       "  <pyspark.resultiterable.ResultIterable at 0x7f65ebd6e748>),\n",
       " (('Belarus', 595438826.0),\n",
       "  <pyspark.resultiterable.ResultIterable at 0x7f65ebd6e2e8>),\n",
       " (('Eswatini', 18130218.8),\n",
       "  <pyspark.resultiterable.ResultIterable at 0x7f65ebd6e7b8>),\n",
       " (('Malawi', 35659831.4),\n",
       "  <pyspark.resultiterable.ResultIterable at 0x7f65ebd6e978>),\n",
       " (('Turkey', 2932698678.0),\n",
       "  <pyspark.resultiterable.ResultIterable at 0x7f65ebd6e898>),\n",
       " (('Dominican Republic', 254728306.1),\n",
       "  <pyspark.resultiterable.ResultIterable at 0x7f65ebd6ea90>),\n",
       " (('Guatemala', 339822253.6),\n",
       "  <pyspark.resultiterable.ResultIterable at 0x7f65ebd6eb38>),\n",
       " (('Cambodia', 72307001.8),\n",
       "  <pyspark.resultiterable.ResultIterable at 0x7f65ebd6ec50>),\n",
       " (('El Salvador', 298939687.1),\n",
       "  <pyspark.resultiterable.ResultIterable at 0x7f65ebd6e9e8>),\n",
       " (('Indonesia', 2469145824.7),\n",
       "  <pyspark.resultiterable.ResultIterable at 0x7f65ebd6ed30>),\n",
       " (('Nicaragua', 181115898.0),\n",
       "  <pyspark.resultiterable.ResultIterable at 0x7f65ebd6eda0>),\n",
       " (('Thailand', 39071571.5),\n",
       "  <pyspark.resultiterable.ResultIterable at 0x7f65ebd6eeb8>),\n",
       " (('Azerbaijan', 513623656.5),\n",
       "  <pyspark.resultiterable.ResultIterable at 0x7f65ebd6ef60>),\n",
       " (('Guinea-Bissau', 6713257.2),\n",
       "  <pyspark.resultiterable.ResultIterable at 0x7f65ebcf6048>),\n",
       " (('Morocco', 1381649282.3),\n",
       "  <pyspark.resultiterable.ResultIterable at 0x7f65ebcf6160>),\n",
       " (('Kenya', 391340889.9),\n",
       "  <pyspark.resultiterable.ResultIterable at 0x7f65ebcf6208>),\n",
       " (('Papua New Guinea', 78345326.0),\n",
       "  <pyspark.resultiterable.ResultIterable at 0x7f65ebd6ea20>),\n",
       " (('Grenada', 13740888.8),\n",
       "  <pyspark.resultiterable.ResultIterable at 0x7f65ebcf6390>),\n",
       " (('Tajikistan', 59062982.0),\n",
       "  <pyspark.resultiterable.ResultIterable at 0x7f65ebcf64e0>),\n",
       " (('\"Iran', 78354060.8),\n",
       "  <pyspark.resultiterable.ResultIterable at 0x7f65ebcf6588>),\n",
       " (('Lebanon', 167638089.7),\n",
       "  <pyspark.resultiterable.ResultIterable at 0x7f65ebcf6630>),\n",
       " (('Bangladesh', 1039564682.7),\n",
       "  <pyspark.resultiterable.ResultIterable at 0x7f65ebcf6710>),\n",
       " (('Philippines', 739056427.3),\n",
       "  <pyspark.resultiterable.ResultIterable at 0x7f65ebcf67f0>),\n",
       " (('Ghana', 130202003.1),\n",
       "  <pyspark.resultiterable.ResultIterable at 0x7f65ebcf6898>),\n",
       " (('\"Yemen', 220743129.9),\n",
       "  <pyspark.resultiterable.ResultIterable at 0x7f65ebcf6978>),\n",
       " (('Myanmar', 30569845.2),\n",
       "  <pyspark.resultiterable.ResultIterable at 0x7f65ebcf6a20>),\n",
       " (('Angola', 124688691.9),\n",
       "  <pyspark.resultiterable.ResultIterable at 0x7f65ebcf6b70>),\n",
       " (('\"Congo', 143105462.0),\n",
       "  <pyspark.resultiterable.ResultIterable at 0x7f65ebcf6c88>),\n",
       " (('Pakistan', 1578651453.9),\n",
       "  <pyspark.resultiterable.ResultIterable at 0x7f65ebcf6d68>),\n",
       " (('Tanzania', 141436637.0),\n",
       "  <pyspark.resultiterable.ResultIterable at 0x7f65ebcf6e80>),\n",
       " (('Russian Federation', 141669500.0),\n",
       "  <pyspark.resultiterable.ResultIterable at 0x7f65ebd6ecc0>),\n",
       " (('Bulgaria', 228993019.8),\n",
       "  <pyspark.resultiterable.ResultIterable at 0x7f65ebcf62e8>),\n",
       " (('Sri Lanka', 449771961.1),\n",
       "  <pyspark.resultiterable.ResultIterable at 0x7f65ebcfe0f0>),\n",
       " (('Nigeria', 297246686.6),\n",
       "  <pyspark.resultiterable.ResultIterable at 0x7f65ebcfe048>),\n",
       " (('Zambia', 53068964.9),\n",
       "  <pyspark.resultiterable.ResultIterable at 0x7f65ebcfe278>),\n",
       " (('Chad', 95738709.5),\n",
       "  <pyspark.resultiterable.ResultIterable at 0x7f65ebcfe320>),\n",
       " (('Madagascar', 60669367.3),\n",
       "  <pyspark.resultiterable.ResultIterable at 0x7f65ebcfe438>),\n",
       " (('\"Macedonia', 185952867.2),\n",
       "  <pyspark.resultiterable.ResultIterable at 0x7f65ebcfe198>),\n",
       " (('China', 2615723714.1),\n",
       "  <pyspark.resultiterable.ResultIterable at 0x7f65ebcfe5f8>),\n",
       " (('Vietnam', 947632152.5),\n",
       "  <pyspark.resultiterable.ResultIterable at 0x7f65ebcfe6a0>),\n",
       " (('Mali', 135472245.9),\n",
       "  <pyspark.resultiterable.ResultIterable at 0x7f65ebcfe748>),\n",
       " (('Central African Republic', 2241813.8),\n",
       "  <pyspark.resultiterable.ResultIterable at 0x7f65ebcfe828>),\n",
       " (('Somalia', 24683262.9),\n",
       "  <pyspark.resultiterable.ResultIterable at 0x7f65ebcfe9e8>),\n",
       " (('Bolivia', 357721211.5),\n",
       "  <pyspark.resultiterable.ResultIterable at 0x7f65ebcfeac8>),\n",
       " (('Senegal', 170437929.1),\n",
       "  <pyspark.resultiterable.ResultIterable at 0x7f65ebcfebe0>),\n",
       " (('Mozambique', 91225626.1),\n",
       "  <pyspark.resultiterable.ResultIterable at 0x7f65ebcfe1d0>),\n",
       " (('Sao Tome and Principe', 2418947.6),\n",
       "  <pyspark.resultiterable.ResultIterable at 0x7f65ebcfecf8>),\n",
       " (('Peru', 553634090.0),\n",
       "  <pyspark.resultiterable.ResultIterable at 0x7f65ebcfedd8>),\n",
       " (('Cabo Verde', 39970124.9),\n",
       "  <pyspark.resultiterable.ResultIterable at 0x7f65ebcfee48>),\n",
       " (('Tunisia', 956604000.1),\n",
       "  <pyspark.resultiterable.ResultIterable at 0x7f65ebcfeef0>),\n",
       " (('Mauritania', 184408220.2),\n",
       "  <pyspark.resultiterable.ResultIterable at 0x7f65ebcfef60>),\n",
       " (('Romania', 1798305095.8),\n",
       "  <pyspark.resultiterable.ResultIterable at 0x7f65ebd61470>),\n",
       " (('Colombia', 1100907553.6),\n",
       "  <pyspark.resultiterable.ResultIterable at 0x7f65ebd612b0>),\n",
       " (('Jordan', 270498715.5),\n",
       "  <pyspark.resultiterable.ResultIterable at 0x7f65ebd61160>),\n",
       " (('Mongolia', 75937145.9),\n",
       "  <pyspark.resultiterable.ResultIterable at 0x7f65ebd61048>),\n",
       " (('Tonga', 2791253.2),\n",
       "  <pyspark.resultiterable.ResultIterable at 0x7f65ebddcf28>),\n",
       " (('Paraguay', 207662030.9),\n",
       "  <pyspark.resultiterable.ResultIterable at 0x7f65ebd5bdd8>),\n",
       " (('Botswana', 125652344.5),\n",
       "  <pyspark.resultiterable.ResultIterable at 0x7f65ebd5be10>),\n",
       " ((\"Cote d'Ivoire\", 84629406.5),\n",
       "  <pyspark.resultiterable.ResultIterable at 0x7f65ebd5bcc0>),\n",
       " (('Costa Rica', 272808260.7),\n",
       "  <pyspark.resultiterable.ResultIterable at 0x7f65ebd5b978>),\n",
       " (('Benin', 91631639.5),\n",
       "  <pyspark.resultiterable.ResultIterable at 0x7f65ebd5bb00>),\n",
       " (('Lao PDR', 80684114.6),\n",
       "  <pyspark.resultiterable.ResultIterable at 0x7f65ebd5bb38>),\n",
       " (('Bosnia and Herzegovina', 290170946.5),\n",
       "  <pyspark.resultiterable.ResultIterable at 0x7f65ebd5b940>),\n",
       " (('St. Lucia', 15019216.3),\n",
       "  <pyspark.resultiterable.ResultIterable at 0x7f65ebd5b828>),\n",
       " (('Rwanda', 31090382.5),\n",
       "  <pyspark.resultiterable.ResultIterable at 0x7f65ebd5b6d8>),\n",
       " (('Ecuador', 578894793.9),\n",
       "  <pyspark.resultiterable.ResultIterable at 0x7f65ebd5b588>),\n",
       " (('Sudan', 217194878.8),\n",
       "  <pyspark.resultiterable.ResultIterable at 0x7f65ebd5b320>),\n",
       " (('Haiti', 10087968.8),\n",
       "  <pyspark.resultiterable.ResultIterable at 0x7f65ebd5b278>),\n",
       " (('Kyrgyz Republic', 75278037.2),\n",
       "  <pyspark.resultiterable.ResultIterable at 0x7f65ebd5b6a0>),\n",
       " (('Uzbekistan', 244240575.6),\n",
       "  <pyspark.resultiterable.ResultIterable at 0x7f65ebd5b470>),\n",
       " (('South Africa', 346393763.9),\n",
       "  <pyspark.resultiterable.ResultIterable at 0x7f65ebd5b240>),\n",
       " (('Guyana', 34651806.5),\n",
       "  <pyspark.resultiterable.ResultIterable at 0x7f65e8127c50>),\n",
       " (('Jamaica', 174427648.0),\n",
       "  <pyspark.resultiterable.ResultIterable at 0x7f65ebd5c320>),\n",
       " (('Samoa', 9987486.6),\n",
       "  <pyspark.resultiterable.ResultIterable at 0x7f65ebd5c898>),\n",
       " (('Turkmenistan', 5831189.2),\n",
       "  <pyspark.resultiterable.ResultIterable at 0x7f65ebd5c518>),\n",
       " (('India', 4545609909.9),\n",
       "  <pyspark.resultiterable.ResultIterable at 0x7f65ebd5c3c8>),\n",
       " (('Sierra Leone', 24144262.8),\n",
       "  <pyspark.resultiterable.ResultIterable at 0x7f65ebd5b5f8>),\n",
       " (('Mauritius', 74568335.5),\n",
       "  <pyspark.resultiterable.ResultIterable at 0x7f65ebd5c5c0>),\n",
       " (('Kazakhstan', 1079948889.7),\n",
       "  <pyspark.resultiterable.ResultIterable at 0x7f65ebd5c860>),\n",
       " (('Syrian Arab Republic', 147903571.1),\n",
       "  <pyspark.resultiterable.ResultIterable at 0x7f65ebd5c668>),\n",
       " (('Eritrea', 15482475.4),\n",
       "  <pyspark.resultiterable.ResultIterable at 0x7f65ebd5c470>),\n",
       " (('Mexico', 864181883.5),\n",
       "  <pyspark.resultiterable.ResultIterable at 0x7f65ebd5ca90>),\n",
       " (('Maldives', 17896143.5),\n",
       "  <pyspark.resultiterable.ResultIterable at 0x7f65ebd5ccc0>),\n",
       " (('Liberia', 7383619.4),\n",
       "  <pyspark.resultiterable.ResultIterable at 0x7f65ebd5cf28>),\n",
       " (('Guinea', 29819676.8),\n",
       "  <pyspark.resultiterable.ResultIterable at 0x7f65ebd5ccf8>),\n",
       " (('Cameroon', 152095968.1),\n",
       "  <pyspark.resultiterable.ResultIterable at 0x7f65ebd5cbe0>),\n",
       " (('Brazil', 2514318741.6),\n",
       "  <pyspark.resultiterable.ResultIterable at 0x7f65ebd5cda0>),\n",
       " (('Niger', 115132364.5),\n",
       "  <pyspark.resultiterable.ResultIterable at 0x7f65ebd5cd30>)]"
      ]
     },
     "execution_count": 54,
     "metadata": {},
     "output_type": "execute_result"
    }
   ],
   "source": [
    "deuda_total_pais = parsed_data_deuda.groupBy(lambda x: (x[0],to_float(x[5])))\n",
    "\n",
    "deuda_total_pais.collect()"
   ]
  },
  {
   "cell_type": "markdown",
   "metadata": {},
   "source": [
    "##### 4. Media de los indicadores de deuda (tabla uno): DT.AMT.BLAT.CD, DT.DIS.BLAT.CD, DT.INT.BLAT.CD"
   ]
  },
  {
   "cell_type": "markdown",
   "metadata": {},
   "source": [
    "La primera forma de hacerlo es con la función mean. En este caso se seleccionan mediante un map las variables a analizar, se pasa a float mediante la función definida anteriormente y después se obtiene su media con mean()."
   ]
  },
  {
   "cell_type": "code",
   "execution_count": 53,
   "metadata": {
    "collapsed": false
   },
   "outputs": [
    {
     "name": "stdout",
     "output_type": "stream",
     "text": [
      "La media de deuda para DT.AMT.BLAT.CD es 701125769.5846772.\n",
      "La media de deuda para DT.DIS.BLAT.CD es 1114634998.5080643.\n",
      "La media de deuda para DT.INT.BLAT.CD es 161446619.71209675.\n"
     ]
    }
   ],
   "source": [
    "print(\"La media de deuda para DT.AMT.BLAT.CD es {}.\".format(parsed_data_deuda.map(lambda x: to_float(x[2])).mean()))\n",
    "print(\"La media de deuda para DT.DIS.BLAT.CD es {}.\".format(parsed_data_deuda.map(lambda x: to_float(x[11])).mean()))\n",
    "print(\"La media de deuda para DT.INT.BLAT.CD es {}.\".format(parsed_data_deuda.map(lambda x: to_float(x[18])).mean()))"
   ]
  },
  {
   "cell_type": "markdown",
   "metadata": {},
   "source": [
    "La segunda forma de hacerlo es mediante aggregate."
   ]
  },
  {
   "cell_type": "code",
   "execution_count": 55,
   "metadata": {
    "collapsed": false
   },
   "outputs": [
    {
     "data": {
      "text/plain": [
       "[(61739336.9, 49114729.4, 39903620.1),\n",
       " (54250280.6, 76050616.1, 13847333.6),\n",
       " (95188724.6, 10320772.2, 7680627.6),\n",
       " (8473824016.3, 8838256901.1, 1005053965.1),\n",
       " (68968314.7, 174269846.7, 24094832.0)]"
      ]
     },
     "execution_count": 55,
     "metadata": {},
     "output_type": "execute_result"
    }
   ],
   "source": [
    "deuda1_data = parsed_data_deuda.map(lambda x: (to_float(x[2]), to_float(x[11]), to_float(x[18])))\n",
    "deuda1_data.take(5) #Se guarda en un rdd los datos de las variables a analizar para posteriormente hacer el aggregate sobre ellas"
   ]
  },
  {
   "cell_type": "code",
   "execution_count": 56,
   "metadata": {
    "collapsed": false
   },
   "outputs": [
    {
     "name": "stdout",
     "output_type": "stream",
     "text": [
      "La media de deuda para DT.AMT.BLAT.CD es 701125769.5846775.\n",
      "La media de deuda para DT.DIS.BLAT.CD es 1114634998.5080647.\n",
      "La media de deuda para DT.INT.BLAT.CD es 161446619.71209678.\n"
     ]
    }
   ],
   "source": [
    "deuda1_count_sum = deuda1_data.aggregate(\n",
    "(0,0,0,0), #valor inicial, las posiciones x[0]x[1]x[2] serán la suma de las deudas y x[3] será las veces que se suma, un contador, cuenta la cantidad de iteracciones realizadas\n",
    "    (lambda acc, value: (acc[0] + value[0], acc[1] + value[1], acc[2] + value[2], acc[3] + 1)), #Sobre la posiciones de las deudas va sumando los valores y por ultimo se va sumando el contador\n",
    "    (lambda acc1, acc2: (acc1[0] + acc2[0], acc1[1] + acc2[1], acc1[2] + acc2[2], acc1[3] + acc2[3])) #Se realizan los acumulados, sobre el valor anterior sumado, se suma el nuevo y lo mismo para el contador\n",
    ")\n",
    "print(\"La media de deuda para DT.AMT.BLAT.CD es {}.\".format(deuda1_count_sum[0]/deuda1_count_sum[3])) #Se divide el valor de la deuda (total) entre el contador para obtener la media\n",
    "print(\"La media de deuda para DT.DIS.BLAT.CD es {}.\".format(deuda1_count_sum[1]/deuda1_count_sum[3]))\n",
    "print(\"La media de deuda para DT.INT.BLAT.CD es {}.\".format(deuda1_count_sum[2]/deuda1_count_sum[3]))"
   ]
  },
  {
   "cell_type": "markdown",
   "metadata": {},
   "source": [
    "##### 5. Los 20 paises con DT.AMT.DLXF.CD más alto"
   ]
  },
  {
   "cell_type": "markdown",
   "metadata": {},
   "source": [
    "Para seleccionar los 20 países con el valor más alto, se realiza una función sortBy para ordenar de mayor a menor en función de la columna DT.AMT.DLXF.CD, después se realiza un map para que devuelva solo los valores de la primera columna (país) y la columna objetivo. Esta columna se pasa a float mediante la función anteriormente creada para que los valores nulos los cuente como 0.0 y luego pase los valores a float.\n",
    "De este modo se obtiene el resultado."
   ]
  },
  {
   "cell_type": "code",
   "execution_count": 57,
   "metadata": {
    "collapsed": false
   },
   "outputs": [
    {
     "data": {
      "text/plain": [
       "[('China', 96218620835.7),\n",
       " ('Brazil', 90041840304.1),\n",
       " ('Russian Federation', 66589761833.5),\n",
       " ('Turkey', 51555031005.8),\n",
       " ('South Asia', 48756295898.2),\n",
       " ('India', 31923507000.8),\n",
       " ('Indonesia', 30916112653.8),\n",
       " ('Kazakhstan', 27482093686.4),\n",
       " ('Mexico', 25218503927.0),\n",
       " ('Least developed countries: UN classification', 25197029299.4),\n",
       " ('IDA only', 20483289208.0),\n",
       " ('Romania', 14013783350.4),\n",
       " ('Colombia', 11985674438.7),\n",
       " ('Angola', 11067045628.1),\n",
       " ('Cameroon', 10404814960.2),\n",
       " ('\"Venezuela', 9878659207.2),\n",
       " ('\"Egypt', 9692114176.9),\n",
       " ('Lebanon', 9506919669.6),\n",
       " ('South Africa', 9474257551.9),\n",
       " ('Vietnam', 8873505909.2)]"
      ]
     },
     "execution_count": 57,
     "metadata": {},
     "output_type": "execute_result"
    }
   ],
   "source": [
    "parsed_data_deuda.sortBy(lambda x: to_float(x[3]), ascending = False).\\\n",
    "                     map(lambda x: (x[0], to_float(x[3]))).take(20)\n",
    "    #Se ordenan de mayor a menor por la variable a analizar (pasa a float mediante la función)\n",
    "    #Posteriormente con un map se seleccionan las variables que nos interesan que son el país (x[0]) y la variable a analizar x[3]\n",
    "    #Con take se devuelven los 20 valores más altos."
   ]
  },
  {
   "cell_type": "markdown",
   "metadata": {},
   "source": [
    "##### 6. Pais con los datos informados todos los años."
   ]
  },
  {
   "cell_type": "markdown",
   "metadata": {},
   "source": [
    "El objetivo es primero conocer los años en los que hay datos, estos son 4 años. Después se trata de devolver países que han reportado algún dato durante todos los años. Para ello se buscará los paises en los que el número de años en los que ha reportado datos sea igual a 4."
   ]
  },
  {
   "cell_type": "code",
   "execution_count": 58,
   "metadata": {
    "collapsed": false,
    "scrolled": true
   },
   "outputs": [
    {
     "data": {
      "text/plain": [
       "['2014 [YR2014]', '2015 [YR2015]', '2016 [YR2016]', '2017 [YR2017]']"
      ]
     },
     "execution_count": 58,
     "metadata": {},
     "output_type": "execute_result"
    }
   ],
   "source": [
    "parsed_data_desarrollo.map(lambda x: x[2]).distinct().collect() #se observa que hay 4 años distinots en el rdd"
   ]
  },
  {
   "cell_type": "code",
   "execution_count": 59,
   "metadata": {
    "collapsed": false
   },
   "outputs": [
    {
     "data": {
      "text/plain": [
       "4"
      ]
     },
     "execution_count": 59,
     "metadata": {},
     "output_type": "execute_result"
    }
   ],
   "source": [
    "parsed_data_desarrollo.map(lambda x: x[2]).distinct().count()"
   ]
  },
  {
   "cell_type": "code",
   "execution_count": 61,
   "metadata": {
    "collapsed": false
   },
   "outputs": [
    {
     "data": {
      "text/plain": [
       "[('Malawi', 4)]"
      ]
     },
     "execution_count": 61,
     "metadata": {},
     "output_type": "execute_result"
    }
   ],
   "source": [
    "parsed_data_desarrollo.map(lambda x: (x[0], 1)).\\\n",
    "    reduceByKey(lambda x, y: x+y).\\\n",
    "    filter(lambda x: x[1] == 4).take(5)\n",
    "    \n",
    "    #Se selecciona la variable x[0], el país y se añade al lado un 1. Este uno indicará las veces que aparece, que debe ser 4 veces (por cada año)\n",
    "    #Se realiza un reduceByKey para que agrupe por la key (x[0]) y sume el valor a su lado, en este caso va sumando 1 por cada vez que lo agrupa\n",
    "    #se filtra para que devuelva los países donde su conteo es = 4 (aparece 4 veces, uno por cada año)"
   ]
  },
  {
   "cell_type": "markdown",
   "metadata": {},
   "source": [
    "##### 7. Media anual de los distintos indicadores de desarrollo"
   ]
  },
  {
   "cell_type": "markdown",
   "metadata": {},
   "source": [
    "El proceso para obtener la media anual de cada indicador será primero filtrar por cada año para realizar el cálculo con cada filtrado. Después se hara la fórmula de aggregate para que vaya sumando el valor de cada indicador y también añada un contador con las veces que va realizando el proceso, para finalmente calcular la media."
   ]
  },
  {
   "cell_type": "markdown",
   "metadata": {},
   "source": [
    "#### Cálculo para 2014"
   ]
  },
  {
   "cell_type": "code",
   "execution_count": 62,
   "metadata": {
    "collapsed": false
   },
   "outputs": [],
   "source": [
    "desarrollo_2014 = parsed_data_desarrollo.filter(lambda x: x[2] == \"2014 [YR2014]\").\\\n",
    "    map(lambda x: (to_float(x[3]), to_float(x[4]), to_float(x[5])))\n",
    "    #filtrado para que en la fecha devuelva los datos de 2014.\n",
    "    #se hace un map para que devuelva las variables que se van a analizar"
   ]
  },
  {
   "cell_type": "code",
   "execution_count": 63,
   "metadata": {
    "collapsed": false
   },
   "outputs": [
    {
     "name": "stdout",
     "output_type": "stream",
     "text": [
      "La media para GC.DOD.TOTL.CN en 2014 es 103442758732953.23.\n",
      "La media para GC.DOD.TOTL.GD.ZS en 2014 es 56.8439143443844.\n",
      "La media para SP.DYN.CBRT.IN en 2014 es 17.582620000000002.\n"
     ]
    }
   ],
   "source": [
    "desarrollo2014_count_sum = desarrollo_2014.aggregate(\n",
    "(0,0,0,0), #valor inicial, la posicion x[0]x[1]x[2] serán la suma de las variables y x[3] será las veces que se suma, un contador, cuenta la cantidad de iteracciones\n",
    "    (lambda acc, value: (acc[0] + value[0], acc[1] + value[1], acc[2] + value[2], acc[3] + 1)),#Es el mismo proceso que el ejercicio 4\n",
    "    (lambda acc1, acc2: (acc1[0] + acc2[0], acc1[1] + acc2[1], acc1[2] + acc2[2], acc1[3] + acc2[3]))\n",
    ")\n",
    "print(\"La media para GC.DOD.TOTL.CN en 2014 es {}.\".format(desarrollo2014_count_sum[0]/desarrollo2014_count_sum[3]))\n",
    "print(\"La media para GC.DOD.TOTL.GD.ZS en 2014 es {}.\".format(desarrollo2014_count_sum[1]/desarrollo2014_count_sum[3]))\n",
    "print(\"La media para SP.DYN.CBRT.IN en 2014 es {}.\".format(desarrollo2014_count_sum[2]/desarrollo2014_count_sum[3]))"
   ]
  },
  {
   "cell_type": "markdown",
   "metadata": {},
   "source": [
    "#### Cálculo para 2015"
   ]
  },
  {
   "cell_type": "code",
   "execution_count": 64,
   "metadata": {
    "collapsed": true
   },
   "outputs": [],
   "source": [
    "desarrollo_2015 = parsed_data_desarrollo.filter(lambda x: x[2] == \"2015 [YR2015]\").\\\n",
    "    map(lambda x: (to_float(x[3]), to_float(x[4]), to_float(x[5])))"
   ]
  },
  {
   "cell_type": "code",
   "execution_count": 65,
   "metadata": {
    "collapsed": false
   },
   "outputs": [
    {
     "name": "stdout",
     "output_type": "stream",
     "text": [
      "La media para GC.DOD.TOTL.CN en 2015 es 131824403915902.5.\n",
      "La media para GC.DOD.TOTL.GD.ZS en 2015 es 58.36559834488034.\n",
      "La media para SP.DYN.CBRT.IN en 2015 es 16.798477272727272.\n"
     ]
    }
   ],
   "source": [
    "desarrollo2015_count_sum = desarrollo_2015.aggregate(\n",
    "(0,0,0,0), #valor inicial, la posicion x[0] será la suma de deuda y x[1] será las veces que se suma, como un count, cuenta la cantidad de datos que hay\n",
    "    (lambda acc, value: (acc[0] + value[0], acc[1] + value[1], acc[2] + value[2], acc[3] + 1)),\n",
    "    (lambda acc1, acc2: (acc1[0] + acc2[0], acc1[1] + acc2[1], acc1[2] + acc2[2], acc1[3] + acc2[3]))\n",
    ")\n",
    "print(\"La media para GC.DOD.TOTL.CN en 2015 es {}.\".format(desarrollo2015_count_sum[0]/desarrollo2015_count_sum[3]))\n",
    "print(\"La media para GC.DOD.TOTL.GD.ZS en 2015 es {}.\".format(desarrollo2015_count_sum[1]/desarrollo2015_count_sum[3]))\n",
    "print(\"La media para SP.DYN.CBRT.IN en 2015 es {}.\".format(desarrollo2015_count_sum[2]/desarrollo2015_count_sum[3]))"
   ]
  },
  {
   "cell_type": "markdown",
   "metadata": {},
   "source": [
    "#### Cálculo para 2016"
   ]
  },
  {
   "cell_type": "code",
   "execution_count": 66,
   "metadata": {
    "collapsed": true
   },
   "outputs": [],
   "source": [
    "desarrollo_2016 = parsed_data_desarrollo.filter(lambda x: x[2] == \"2016 [YR2016]\").\\\n",
    "    map(lambda x: (to_float(x[3]), to_float(x[4]), to_float(x[5])))"
   ]
  },
  {
   "cell_type": "code",
   "execution_count": 67,
   "metadata": {
    "collapsed": false
   },
   "outputs": [
    {
     "name": "stdout",
     "output_type": "stream",
     "text": [
      "La media para GC.DOD.TOTL.CN en 2016 es 158813821548065.94.\n",
      "La media para GC.DOD.TOTL.GD.ZS en 2016 es 58.796949624008356.\n",
      "La media para SP.DYN.CBRT.IN en 2016 es 16.144333333333332.\n"
     ]
    }
   ],
   "source": [
    "desarrollo2016_count_sum = desarrollo_2016.aggregate(\n",
    "(0,0,0,0), #valor inicial, la posicion x[0] será la suma de deuda y x[1] será las veces que se suma, como un count, cuenta la cantidad de datos que hay\n",
    "    (lambda acc, value: (acc[0] + value[0], acc[1] + value[1], acc[2] + value[2], acc[3] + 1)),\n",
    "    (lambda acc1, acc2: (acc1[0] + acc2[0], acc1[1] + acc2[1], acc1[2] + acc2[2], acc1[3] + acc2[3]))\n",
    ")\n",
    "print(\"La media para GC.DOD.TOTL.CN en 2016 es {}.\".format(desarrollo2016_count_sum[0]/desarrollo2016_count_sum[3]))\n",
    "print(\"La media para GC.DOD.TOTL.GD.ZS en 2016 es {}.\".format(desarrollo2016_count_sum[1]/desarrollo2016_count_sum[3]))\n",
    "print(\"La media para SP.DYN.CBRT.IN en 2016 es {}.\".format(desarrollo2016_count_sum[2]/desarrollo2016_count_sum[3]))"
   ]
  },
  {
   "cell_type": "markdown",
   "metadata": {},
   "source": [
    "#### Cálculo para 2017"
   ]
  },
  {
   "cell_type": "code",
   "execution_count": 68,
   "metadata": {
    "collapsed": true
   },
   "outputs": [],
   "source": [
    "desarrollo_2017 = parsed_data_desarrollo.filter(lambda x: x[2] == \"2017 [YR2017]\").\\\n",
    "    map(lambda x: (to_float(x[3]), to_float(x[4]), to_float(x[5])))"
   ]
  },
  {
   "cell_type": "code",
   "execution_count": 69,
   "metadata": {
    "collapsed": false
   },
   "outputs": [
    {
     "name": "stdout",
     "output_type": "stream",
     "text": [
      "La media para GC.DOD.TOTL.CN en 2017 es 2239858619962.69.\n",
      "La media para GC.DOD.TOTL.GD.ZS en 2017 es 48.659564238322.\n",
      "La media para SP.DYN.CBRT.IN en 2017 es 34.593.\n"
     ]
    }
   ],
   "source": [
    "desarrollo2017_count_sum = desarrollo_2017.aggregate(\n",
    "(0,0,0,0), #valor inicial, la posicion x[0] será la suma de deuda y x[1] será las veces que se suma, como un count, cuenta la cantidad de datos que hay\n",
    "    (lambda acc, value: (acc[0] + value[0], acc[1] + value[1], acc[2] + value[2], acc[3] + 1)),\n",
    "    (lambda acc1, acc2: (acc1[0] + acc2[0], acc1[1] + acc2[1], acc1[2] + acc2[2], acc1[3] + acc2[3]))\n",
    ")\n",
    "print(\"La media para GC.DOD.TOTL.CN en 2017 es {}.\".format(desarrollo2017_count_sum[0]/desarrollo2017_count_sum[3]))\n",
    "print(\"La media para GC.DOD.TOTL.GD.ZS en 2017 es {}.\".format(desarrollo2017_count_sum[1]/desarrollo2017_count_sum[3]))\n",
    "print(\"La media para SP.DYN.CBRT.IN en 2017 es {}.\".format(desarrollo2017_count_sum[2]/desarrollo2017_count_sum[3]))"
   ]
  },
  {
   "cell_type": "markdown",
   "metadata": {},
   "source": [
    "##### 8. Podrías decirme el total de deuda acumulada DT.AMT.MLAT.CD por los 10 países con un valor en media menor de SP.DYN.CBRT.IN"
   ]
  },
  {
   "cell_type": "markdown",
   "metadata": {},
   "source": [
    "Se busca devolver la deuda acumulada DT.AMT.MLAT.CD de los 10 países que tienen una menor media en SP.DYN.CBRT.IN.\n",
    "\n",
    "Por lo tanto los pasos a seguir serán obtener la media de SP.DYN.CBRT.IN de cada país y obtener los 10 países que tienen una menor media. Después se calculará el total de deuda acumulada de esos 10 países."
   ]
  },
  {
   "cell_type": "code",
   "execution_count": 74,
   "metadata": {
    "collapsed": false
   },
   "outputs": [
    {
     "data": {
      "text/plain": [
       "[('Albania', 12.259),\n",
       " ('Albania', 12.197),\n",
       " ('Albania', 12.08),\n",
       " ('Australia', 13.2),\n",
       " ('Australia', 12.9)]"
      ]
     },
     "execution_count": 74,
     "metadata": {},
     "output_type": "execute_result"
    }
   ],
   "source": [
    "key_value_data = parsed_data_desarrollo.map(lambda x: (x[0],to_float(x[5]))) #se hace un map para hacer un key value. key es el país y el value será la variable a analizar\n",
    "key_value_data.take(5)"
   ]
  },
  {
   "cell_type": "code",
   "execution_count": 75,
   "metadata": {
    "collapsed": false,
    "scrolled": true
   },
   "outputs": [
    {
     "data": {
      "text/plain": [
       "[('Hungary', 9.533333333333333),\n",
       " ('Guatemala', 25.628666666666664),\n",
       " ('Belize', 7.355666666666667),\n",
       " ('Zambia', 25.531666666666666),\n",
       " ('Ukraine', 10.6),\n",
       " ('Botswana', 26.417666666666666),\n",
       " ('Switzerland', 10.466666666666667),\n",
       " ('Uruguay', 14.127666666666668),\n",
       " ('United States', 12.366666666666665),\n",
       " ('Palau', 13.133333333333333),\n",
       " ('Russian Federation', 13.166666666666666),\n",
       " ('Jamaica', 16.63566666666667),\n",
       " ('Namibia', 10.064),\n",
       " ('St. Lucia', 4.167333333333334),\n",
       " ('Singapore', 9.633333333333333),\n",
       " ('New Zealand', 12.866666666666667),\n",
       " ('United Kingdom', 11.9),\n",
       " ('Turkey', 16.717333333333332),\n",
       " ('Seychelles', 11.333333333333334),\n",
       " ('Spain', 9.0),\n",
       " ('Moldova', 10.604333333333335),\n",
       " ('Papua New Guinea', 18.779),\n",
       " ('Jordan', 16.203333333333333),\n",
       " ('Belarus', 12.466666666666667),\n",
       " ('Japan', 7.933333333333334),\n",
       " ('Georgia', 14.056),\n",
       " ('El Salvador', 18.733999999999998),\n",
       " ('St. Vincent and the Grenadines', 5.003666666666667),\n",
       " ('Australia', 13.0),\n",
       " ('Brazil', 14.467666666666666),\n",
       " ('Barbados', 7.240666666666667),\n",
       " ('Kyrgyz Republic', 27.03333333333333),\n",
       " ('Thailand', 7.278333333333333),\n",
       " ('Kazakhstan', 22.776666666666667),\n",
       " ('Solomon Islands', 33.525666666666666),\n",
       " ('Ireland', 13.9),\n",
       " ('Bhutan', 17.791),\n",
       " ('Malawi', 47.407999999999994),\n",
       " ('\"Bahamas', 14.231666666666667),\n",
       " ('Peru', 18.564666666666668),\n",
       " ('St. Kitts and Nevis', 4.2),\n",
       " ('Philippines', 7.645),\n",
       " ('Albania', 12.178666666666667),\n",
       " ('Indonesia', 19.163999999999998),\n",
       " ('San Marino', 5.366666666666667),\n",
       " ('Malaysia', 17.017333333333333),\n",
       " ('\"Micronesia', 23.215666666666667),\n",
       " ('Colombia', 15.516),\n",
       " ('Tonga', 25.362333333333336),\n",
       " ('\"Korea', 8.366666666666667),\n",
       " ('Sri Lanka', 11.152666666666667)]"
      ]
     },
     "execution_count": 75,
     "metadata": {},
     "output_type": "execute_result"
    }
   ],
   "source": [
    "mean_by_key = key_value_data.reduceByKey(lambda x, y: x+y).\\\n",
    "    map(lambda x: (x[0], (x[1]/3)))\n",
    "mean_by_key.collect() \n",
    "\n",
    "#se realiza un reduce by key para que sume por cada país la variable a analizar\n",
    "#de este modo se obtiene el birth rate total del país. posteriormente se divide entre la cantidad de veces que se ha realizado la iteraccion.\n",
    "#No se como realizarlo con un aggregate ya que está agrupado por países y no es sobre el total de la variable.\n",
    "#se divide entre 3 ya que menos un país, el resto solo reportó datos en 3 años."
   ]
  },
  {
   "cell_type": "code",
   "execution_count": 76,
   "metadata": {
    "collapsed": false,
    "scrolled": false
   },
   "outputs": [
    {
     "data": {
      "text/plain": [
       "[('St. Lucia', 4.167333333333334),\n",
       " ('St. Kitts and Nevis', 4.2),\n",
       " ('St. Vincent and the Grenadines', 5.003666666666667),\n",
       " ('San Marino', 5.366666666666667),\n",
       " ('Barbados', 7.240666666666667),\n",
       " ('Thailand', 7.278333333333333),\n",
       " ('Belize', 7.355666666666667),\n",
       " ('Philippines', 7.645),\n",
       " ('Japan', 7.933333333333334),\n",
       " ('\"Korea', 8.366666666666667)]"
      ]
     },
     "execution_count": 76,
     "metadata": {},
     "output_type": "execute_result"
    }
   ],
   "source": [
    "mean_by_key.sortBy(lambda x: x[1], ascending = True).take(10) #se ordena las medias en sentido descendente y se devuelven los 10 valores más bajos."
   ]
  }
 ],
 "metadata": {
  "kernelspec": {
   "display_name": "Python 3",
   "language": "python",
   "name": "python3"
  },
  "language_info": {
   "codemirror_mode": {
    "name": "ipython",
    "version": 3
   },
   "file_extension": ".py",
   "mimetype": "text/x-python",
   "name": "python",
   "nbconvert_exporter": "python",
   "pygments_lexer": "ipython3",
   "version": "3.5.2"
  }
 },
 "nbformat": 4,
 "nbformat_minor": 2
}
