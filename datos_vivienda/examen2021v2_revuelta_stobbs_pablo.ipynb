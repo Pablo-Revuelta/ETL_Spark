{
 "cells": [
  {
   "cell_type": "markdown",
   "metadata": {},
   "source": [
    "### Autor: Pablo Revuelta Stobbs\n",
    "\n",
    "#### Fecha: 01/02/2021"
   ]
  },
  {
   "cell_type": "markdown",
   "metadata": {},
   "source": [
    "# TAREA FINAL: Datos de vivienda\n",
    "\n",
    "<p> El negocio inmobiliario es uno de los motores de la economía de España, el carácter turístico de nuesta península hace que sean muchos los inversores extranjeros que se decidan por buscar una inversión de bajo riesgos en nuestras ciudades costeras o grandes urbes. \n",
    "Muchas de estas inversiones se hacen sobre grandes bolsas de inmuebles que deben ser analizados previamente para comprobar la rentabilidad del porfolio </p>\n",
    "\n",
    "<!-- <p> En este caso vamos a trabajar con una tabla que contienen información de distintos inmuebles repartidos por una zona específica, sus carácterísticas y su precio </p>  -->"
   ]
  },
  {
   "cell_type": "markdown",
   "metadata": {},
   "source": [
    "Todas las cuestiones se deben realizar sobre el conjunto de casos que representen viviendas ubicadas en zonas residenciales **(alta, media y baja densidad)**"
   ]
  },
  {
   "cell_type": "markdown",
   "metadata": {},
   "source": [
    "**MUY IMPORTANTE:** En las otras prácticas he detectado colaboraciones involucrando varias personas y he sido flexible aunque a algunos os lo he mencionado en las correcciones, porque al final el trabajo de analista de datos es un trabajo colaborativo. Sin embargo, este trabajo es individual, así que cuidado con las colaboraciones."
   ]
  },
  {
   "cell_type": "markdown",
   "metadata": {},
   "source": [
    "Las variables de las que se compone el dataset son:"
   ]
  },
  {
   "cell_type": "markdown",
   "metadata": {},
   "source": [
    "|NOMBRE VARIABLE|DESCRIPTOR|VALORES|\n",
    "| --- | --- | --- |\n",
    "|Order|Variable de identificación|1 a 2930|\n",
    "|MS Zoning|Zona de ubicación de la vivienda|\"A rural, C comercial, FV residencial flotante, I industrial, RH residencial alta densidad, RL residencial baja densidad, RM residencial media densidad\"|\n",
    "|Lot Frontage|Longitud de la fachada en pies||\n",
    "|Lot Area|Superficie de la vivienda en pies cuadrados||\n",
    "|Land Contour|Contorno del terreno circundante|\"Lvl llano, Bnk Tipo bancal, HLS Ladera, Low Depresión\"|\n",
    "|Land Slope|Tipo de pendiente de la vivienda|\" Gtl pendiente suave, Mod pendiente moderada, Sev fuerte pendiente\"|\n",
    "|Overall Qual|Grado de calidad de materiales y acabado de la vivienda|De 1 (Muy pobre) a 10 (Excelente)|\n",
    "|Year Built|Año de construccion de la vivienda||\n",
    "|Year Remod/Add|Año de última reforma de la vivienda||\n",
    "|Mas Vnr Type|Tipo de revestimiento exterior|\" BrkCmn Ladrillo normal, BrkFace Ladrillo visto, CBlock Bloque de cemento, None Ninguna, Stone Piedra \"|\n",
    "|Exter Qual|Calidad de revestimiento exterior|\"Ex Excelente,Gd Bueno,TA Media,Fa Justo\"|\n",
    "|Bsmt Cond|Estado general del sótano|\"Ex Excelente, Gd Bueno, TA Media, Fa Justo, Po Pobre,Ss sin sótano\"|\n",
    "|Total Bsmt SF|Superficie del sótano en pies cuadrados|\n",
    "|Heating QC|Calidad de la calefacción|\"Ex Excelente,Gd Bueno,TA Media,Fa Justo,Po Pobre\"|\n",
    "|Central Air|Aire acondicionado centralizado|\"N No Y Sí\"|\n",
    "|Full Bath|Número de baños completo en planta||\n",
    "|Half Bath|Número de aseos en planta||\n",
    "|Bedroom AbvGr|Número de dormitorios en planta||\n",
    "|Kitchen AbvGr|Número de cocinas en planta||\n",
    "|Kitchen Qual|Calidad de cocinas|\"Ex Excelente,Gd Bueno,TA Media,Fa Justo,Po Pobre\"|\n",
    "|TotRms AbvGrd|Número total de habitaciones excluidos los cuartos de baño||\n",
    "|Garage Cars|Número de plazas de garaje||\n",
    "|Garage Area|Superficie del garaje|||\n",
    "|Garage Cond|Estado del garaje|\"Ex Excelente,Gd Bueno,TA Media,Fa Justo,Po Pobre,Sg sin garaje\"|\n",
    "|Pool Area|Superficie de la piscina en pies cuadrados|\n",
    "|Pool QC|Calidad de la piscina|\"Ex Excelente,Gd Bueno,TA Media,Fa Justo,Sp no hay piscina\"|\n",
    "|Mo Sold|mes de venta||\n",
    "|Yr Sold|año de venta||\n",
    "|SalePrice|precio de venta en dólares||"
   ]
  },
  {
   "cell_type": "markdown",
   "metadata": {},
   "source": [
    "Recomiendo al leer los datos, eliminar espacios de los nombres de las columnas, realiza un pequeño análisis inicial de los mismos. No olvides fijarte en los tipos de variables, que variables pueden tener tipos confundidos y corrige los. Sobre todo, trabaja con las fechas."
   ]
  },
  {
   "cell_type": "markdown",
   "metadata": {},
   "source": [
    "**NOTA:** Las tareas complementarias sirven para subir nota. El resto de preguntas valen igual y suman 10 puntos."
   ]
  },
  {
   "cell_type": "markdown",
   "metadata": {},
   "source": [
    "## Inicializar y cargar el contexto spark"
   ]
  },
  {
   "cell_type": "code",
   "execution_count": 2,
   "metadata": {
    "collapsed": true
   },
   "outputs": [],
   "source": [
    "from pyspark import SparkContext\n",
    "sc = SparkContext()"
   ]
  },
  {
   "cell_type": "markdown",
   "metadata": {},
   "source": [
    "Se comprueba que se ha cargado el contexto Spark"
   ]
  },
  {
   "cell_type": "code",
   "execution_count": 3,
   "metadata": {
    "collapsed": false
   },
   "outputs": [
    {
     "data": {
      "text/plain": [
       "[('spark.driver.host', '172.17.0.2'),\n",
       " ('spark.rdd.compress', 'True'),\n",
       " ('spark.serializer.objectStreamReset', '100'),\n",
       " ('spark.driver.port', '40391'),\n",
       " ('spark.app.id', 'local-1612169246120'),\n",
       " ('spark.master', 'local[*]'),\n",
       " ('spark.executor.id', 'driver'),\n",
       " ('spark.submit.deployMode', 'client'),\n",
       " ('spark.app.name', 'pyspark-shell')]"
      ]
     },
     "execution_count": 3,
     "metadata": {},
     "output_type": "execute_result"
    }
   ],
   "source": [
    "conf = sc.getConf()\n",
    "conf.getAll()"
   ]
  },
  {
   "cell_type": "markdown",
   "metadata": {},
   "source": [
    "### Carga de la base de datos"
   ]
  },
  {
   "cell_type": "code",
   "execution_count": 4,
   "metadata": {
    "collapsed": true
   },
   "outputs": [],
   "source": [
    "path_file1 = \"./BDpracticafinal2021.xlsx\"\n",
    "path_file2 = \"./BDpracticafinalCSV.csv\""
   ]
  },
  {
   "cell_type": "code",
   "execution_count": 5,
   "metadata": {
    "collapsed": false
   },
   "outputs": [],
   "source": [
    "raw_data1 = sc.textFile(path_file1)\n",
    "raw_data2 = sc.textFile(path_file2)"
   ]
  },
  {
   "cell_type": "markdown",
   "metadata": {},
   "source": [
    "Se comprueba que ambas bases de datos se han cargado correctamente"
   ]
  },
  {
   "cell_type": "code",
   "execution_count": 6,
   "metadata": {
    "collapsed": false,
    "scrolled": true
   },
   "outputs": [
    {
     "data": {
      "text/plain": [
       "(4354, 2937)"
      ]
     },
     "execution_count": 6,
     "metadata": {},
     "output_type": "execute_result"
    }
   ],
   "source": [
    "(raw_data1.count(),raw_data2.count())"
   ]
  },
  {
   "cell_type": "markdown",
   "metadata": {},
   "source": [
    "Primero se realiza con raw_data1"
   ]
  },
  {
   "cell_type": "code",
   "execution_count": 7,
   "metadata": {
    "collapsed": false,
    "scrolled": true
   },
   "outputs": [
    {
     "data": {
      "text/plain": [
       "['Order;MS Zoning;Lot Frontage;Lot Area;Land Contour;Land Slope;Overall Qual;Year Built;Year Remod/Add;Mas Vnr Type;Exter Qual;Bsmt Cond;Total Bsmt SF;Heating QC;Central Air;Full Bath;Half Bath;Bedroom AbvGr;Kitchen AbvGr;Kitchen Qual;TotRms AbvGrd;Garage Cars;Garage Area;Garage Cond;Pool Area;Pool QC;Mo Sold;Yr Sold;SalePrice',\n",
       " '1;RL;141;31770;Lvl;Gtl;6;1960;1960;Stone;TA;Gd;1080;Fa;Y;1;0;3;1;TA;7;2;528;TA;0;Sp;5;2010;215000',\n",
       " '2;RH;80;11622;Lvl;Gtl;5;1961;1961;None;TA;TA;882;TA;Y;1;0;2;1;TA;5;1;730;TA;0;Sp;6;2010;105000',\n",
       " '3;RL;81;14267;Lvl;Gtl;6;1958;1958;BrkFace;TA;TA;1329;TA;Y;1;1;3;1;Gd;6;1;312;TA;0;Sp;6;2010;172000',\n",
       " '4;RL;93;11160;Lvl;Gtl;7;1968;1968;None;Gd;TA;2110;Ex;Y;2;1;3;1;Ex;8;2;522;TA;0;Sp;4;2010;244000']"
      ]
     },
     "execution_count": 7,
     "metadata": {},
     "output_type": "execute_result"
    }
   ],
   "source": [
    "raw_data2.take(5)"
   ]
  },
  {
   "cell_type": "markdown",
   "metadata": {},
   "source": [
    "Elimiar la cabecera"
   ]
  },
  {
   "cell_type": "code",
   "execution_count": 8,
   "metadata": {
    "collapsed": false
   },
   "outputs": [
    {
     "data": {
      "text/plain": [
       "['1;RL;141;31770;Lvl;Gtl;6;1960;1960;Stone;TA;Gd;1080;Fa;Y;1;0;3;1;TA;7;2;528;TA;0;Sp;5;2010;215000',\n",
       " '2;RH;80;11622;Lvl;Gtl;5;1961;1961;None;TA;TA;882;TA;Y;1;0;2;1;TA;5;1;730;TA;0;Sp;6;2010;105000',\n",
       " '3;RL;81;14267;Lvl;Gtl;6;1958;1958;BrkFace;TA;TA;1329;TA;Y;1;1;3;1;Gd;6;1;312;TA;0;Sp;6;2010;172000',\n",
       " '4;RL;93;11160;Lvl;Gtl;7;1968;1968;None;Gd;TA;2110;Ex;Y;2;1;3;1;Ex;8;2;522;TA;0;Sp;4;2010;244000',\n",
       " '5;RL;74;13830;Lvl;Gtl;5;1997;1998;None;TA;TA;928;Gd;Y;2;1;3;1;TA;6;2;482;TA;0;Sp;3;2010;189900']"
      ]
     },
     "execution_count": 8,
     "metadata": {},
     "output_type": "execute_result"
    }
   ],
   "source": [
    "header2 = raw_data2.first()\n",
    "raw_data2 = raw_data2.filter(lambda x: x != header2)\n",
    "raw_data2.take(5)"
   ]
  },
  {
   "cell_type": "code",
   "execution_count": 10,
   "metadata": {
    "collapsed": false,
    "scrolled": true
   },
   "outputs": [
    {
     "data": {
      "text/plain": [
       "'Order;MS Zoning;Lot Frontage;Lot Area;Land Contour;Land Slope;Overall Qual;Year Built;Year Remod/Add;Mas Vnr Type;Exter Qual;Bsmt Cond;Total Bsmt SF;Heating QC;Central Air;Full Bath;Half Bath;Bedroom AbvGr;Kitchen AbvGr;Kitchen Qual;TotRms AbvGrd;Garage Cars;Garage Area;Garage Cond;Pool Area;Pool QC;Mo Sold;Yr Sold;SalePrice'"
      ]
     },
     "execution_count": 10,
     "metadata": {},
     "output_type": "execute_result"
    }
   ],
   "source": [
    "header2"
   ]
  },
  {
   "cell_type": "code",
   "execution_count": 9,
   "metadata": {
    "collapsed": false,
    "scrolled": true
   },
   "outputs": [
    {
     "data": {
      "text/plain": [
       "[['1',\n",
       "  'RL',\n",
       "  '141',\n",
       "  '31770',\n",
       "  'Lvl',\n",
       "  'Gtl',\n",
       "  '6',\n",
       "  '1960',\n",
       "  '1960',\n",
       "  'Stone',\n",
       "  'TA',\n",
       "  'Gd',\n",
       "  '1080',\n",
       "  'Fa',\n",
       "  'Y',\n",
       "  '1',\n",
       "  '0',\n",
       "  '3',\n",
       "  '1',\n",
       "  'TA',\n",
       "  '7',\n",
       "  '2',\n",
       "  '528',\n",
       "  'TA',\n",
       "  '0',\n",
       "  'Sp',\n",
       "  '5',\n",
       "  '2010',\n",
       "  '215000']]"
      ]
     },
     "execution_count": 9,
     "metadata": {},
     "output_type": "execute_result"
    }
   ],
   "source": [
    "parsed2 = raw_data2.map(lambda x: x.split(\";\")) #se indica que se separen las obs. mediante un map por el \";\"\n",
    "parsed2.take(1)"
   ]
  },
  {
   "cell_type": "markdown",
   "metadata": {},
   "source": [
    "Se comprueba que la longitud de los datos sea la misma, lo que indicaría que la base de datos está correctamente separada."
   ]
  },
  {
   "cell_type": "code",
   "execution_count": 10,
   "metadata": {
    "collapsed": false
   },
   "outputs": [
    {
     "data": {
      "text/plain": [
       "1"
      ]
     },
     "execution_count": 10,
     "metadata": {},
     "output_type": "execute_result"
    }
   ],
   "source": [
    "parsed2.map(lambda x: (len(x))).distinct().count()"
   ]
  },
  {
   "cell_type": "markdown",
   "metadata": {},
   "source": [
    "## Cuántas viviendas distintas encontramos en el dataset? ¿Se repite alguna? Tiene sentido que haya duplicadas? ¿Qué podemos hacer con las duplicadas?"
   ]
  },
  {
   "cell_type": "code",
   "execution_count": 11,
   "metadata": {
    "collapsed": false
   },
   "outputs": [
    {
     "data": {
      "text/plain": [
       "2930"
      ]
     },
     "execution_count": 11,
     "metadata": {},
     "output_type": "execute_result"
    }
   ],
   "source": [
    "parsed2.map(lambda x: x[0]).distinct().count() #Se observan 2930 viviendas distintas en el dataset."
   ]
  },
  {
   "cell_type": "code",
   "execution_count": 12,
   "metadata": {
    "collapsed": false,
    "scrolled": true
   },
   "outputs": [
    {
     "data": {
      "text/plain": [
       "2936"
      ]
     },
     "execution_count": 12,
     "metadata": {},
     "output_type": "execute_result"
    }
   ],
   "source": [
    "parsed2.map(lambda x: x[0]).count() #Hay 2936 observaciones en total, lo que indica que hay 6 observaciones repetidas."
   ]
  },
  {
   "cell_type": "markdown",
   "metadata": {},
   "source": [
    "¿Tiene sentido que haya duplicados? Teniendo en cuenta que se trata de una base de datos que contiene información sobre viviendas que se incluyen en una bolsa para su inversión, no interesa tener información de las viviendas repetidas. Se entiende que cada variable identificativa de las viviendas corresponde a la información sobre el estado y precio de la vivienda, por lo que si están repetidas, toda esta información es la misma. Si esa vivienda fuese vendida más de una vez y por tanto apareciese más de una vez en la base de datos, el número identificativo sería distinto. Es por ello por lo que se procede a la eliminación de los duplicados."
   ]
  },
  {
   "cell_type": "markdown",
   "metadata": {},
   "source": [
    "Eliminar duplicados."
   ]
  },
  {
   "cell_type": "code",
   "execution_count": 13,
   "metadata": {
    "collapsed": false
   },
   "outputs": [],
   "source": [
    "key_data = parsed2.map(lambda x: (x[0], x)) # Se crea un rdd donde la variable identificativa sea una key y el resto del dataset el value.\n",
    "#Esto se realiza para posteriormente mediante un reduceByKey obtener las observaciones con un key distinto."
   ]
  },
  {
   "cell_type": "code",
   "execution_count": 14,
   "metadata": {
    "collapsed": false
   },
   "outputs": [
    {
     "data": {
      "text/plain": [
       "2930"
      ]
     },
     "execution_count": 14,
     "metadata": {},
     "output_type": "execute_result"
    }
   ],
   "source": [
    "parsed2_unicos_key = key_data.reduceByKey(lambda x, y: (x)) #Indicamos que realice el reduceByKey sobre la llave del rdd creado.\n",
    "parsed2_unicos_key.count() #De esta forma se obtienen las observaciones únicas."
   ]
  },
  {
   "cell_type": "code",
   "execution_count": 17,
   "metadata": {
    "collapsed": false
   },
   "outputs": [
    {
     "data": {
      "text/plain": [
       "[('1440',\n",
       "  ['1440',\n",
       "   'RL',\n",
       "   '93',\n",
       "   '9382',\n",
       "   'Lvl',\n",
       "   'Gtl',\n",
       "   '7',\n",
       "   '1999',\n",
       "   '2000',\n",
       "   'BrkFace',\n",
       "   'Gd',\n",
       "   'TA',\n",
       "   '1468',\n",
       "   'Ex',\n",
       "   'Y',\n",
       "   '2',\n",
       "   '0',\n",
       "   '3',\n",
       "   '1',\n",
       "   'Gd',\n",
       "   '6',\n",
       "   '2',\n",
       "   '577',\n",
       "   'TA',\n",
       "   '0',\n",
       "   'Sp',\n",
       "   '7',\n",
       "   '2008',\n",
       "   '191000'])]"
      ]
     },
     "execution_count": 17,
     "metadata": {},
     "output_type": "execute_result"
    }
   ],
   "source": [
    "parsed2_unicos_key.take(1)"
   ]
  },
  {
   "cell_type": "code",
   "execution_count": 18,
   "metadata": {
    "collapsed": false
   },
   "outputs": [
    {
     "data": {
      "text/plain": [
       "[(['1440',\n",
       "   'RL',\n",
       "   '93',\n",
       "   '9382',\n",
       "   'Lvl',\n",
       "   'Gtl',\n",
       "   '7',\n",
       "   '1999',\n",
       "   '2000',\n",
       "   'BrkFace',\n",
       "   'Gd',\n",
       "   'TA',\n",
       "   '1468',\n",
       "   'Ex',\n",
       "   'Y',\n",
       "   '2',\n",
       "   '0',\n",
       "   '3',\n",
       "   '1',\n",
       "   'Gd',\n",
       "   '6',\n",
       "   '2',\n",
       "   '577',\n",
       "   'TA',\n",
       "   '0',\n",
       "   'Sp',\n",
       "   '7',\n",
       "   '2008',\n",
       "   '191000'],)]"
      ]
     },
     "execution_count": 18,
     "metadata": {},
     "output_type": "execute_result"
    }
   ],
   "source": [
    "parsed2_unicos = parsed2_unicos_key.map(lambda x: x[1:len(x)]) #Eliminamos del rdd el key\n",
    "parsed2_unicos.take(1)"
   ]
  },
  {
   "cell_type": "markdown",
   "metadata": {},
   "source": [
    "## ¿Podrías decirme el total de inmuebles y el precio medio (Sale Price) de cada zona (MS Zoning)?"
   ]
  },
  {
   "cell_type": "markdown",
   "metadata": {},
   "source": [
    "Para esto me quedo con las variables del id, precio y zona, a partir de aqui agrupo por zona y obtengo la media del precio de cada zona y cuento el número de id's de cada zona."
   ]
  },
  {
   "cell_type": "code",
   "execution_count": 92,
   "metadata": {
    "collapsed": true
   },
   "outputs": [],
   "source": [
    "def to_float(x):\n",
    "    if x in [\"\", \" \", \"nan\", \"null\", \"NULL\", \"Null\", \"NaN\", \"Na\"]:\n",
    "        return 0.0\n",
    "    else:\n",
    "        return float(x)\n",
    "#Función para transformar variables a float."
   ]
  },
  {
   "cell_type": "code",
   "execution_count": 143,
   "metadata": {
    "collapsed": false
   },
   "outputs": [
    {
     "data": {
      "text/plain": [
       "['RL', 'C', 'Rl', 'RH', 'rL', 'I', 'A', 'RM', 'FV']"
      ]
     },
     "execution_count": 143,
     "metadata": {},
     "output_type": "execute_result"
    }
   ],
   "source": [
    "parsed2.map(lambda x: x[1]).distinct().collect()"
   ]
  },
  {
   "cell_type": "code",
   "execution_count": 144,
   "metadata": {
    "collapsed": true
   },
   "outputs": [],
   "source": [
    "def rename(x):\n",
    "    if x == 'Rl':\n",
    "        xn = 'RL'\n",
    "    elif x == 'rL':\n",
    "        xn = 'RL'\n",
    "    else:\n",
    "        xn = x\n",
    "    return(xn)\n",
    "#Función para transformar los valores de la posición x[1] que indican la zona. Al observarse varios nombres para RL, con esta función\n",
    "#renombramos todas a RL."
   ]
  },
  {
   "cell_type": "code",
   "execution_count": 146,
   "metadata": {
    "collapsed": false
   },
   "outputs": [],
   "source": [
    "zona_price = parsed2.map(lambda x: (rename(x[1]), [to_float(x[-1]), 1])).\\\n",
    "    reduceByKey(lambda x, y: (x[0] + y[0], x[1] + y[1])).\\\n",
    "    map(lambda x: (x[0], x[1][0] / x[1][1], x[1][1]))\n",
    "#1º función seleccionamos las variables en posición 1 y -1 y añadimos un contador.\n",
    "#2º función hacemos un reduceByKey para agregar el precio en posicion x[1] respecto al valor llave zona x[0] y agregamos el contador.\n",
    "#3º función seleccionamos la zona x[0] y pedimos que divida la suma de los precios por cada zona x[1][0] por su contador x[1][1] (veces que se ha realizado la suma).\n",
    "#De esta forma obtenemos la media, después le pedimos que nos seleccione también el contador para observar el nº de viviendas en cada zona."
   ]
  },
  {
   "cell_type": "code",
   "execution_count": 148,
   "metadata": {
    "collapsed": false,
    "scrolled": true
   },
   "outputs": [
    {
     "data": {
      "text/plain": [
       "[('RL', 191412.6068451075, 2279),\n",
       " ('C', 79795.04, 25),\n",
       " ('RH', 136419.77777777778, 27),\n",
       " ('I', 80312.5, 2),\n",
       " ('A', 47300.0, 2),\n",
       " ('RM', 126781.39393939394, 462),\n",
       " ('FV', 218986.94964028776, 139)]"
      ]
     },
     "execution_count": 148,
     "metadata": {},
     "output_type": "execute_result"
    }
   ],
   "source": [
    "zona_price.collect() #Resultados para cada zona del precio medio y del número de inmuebles vendidos."
   ]
  },
  {
   "cell_type": "markdown",
   "metadata": {},
   "source": [
    "## Media de Total Bsmt SF por cada década de construcción calculada a partir de Year Built. \n",
    "## ¿Cuál es la decada de construcción con viviendas mejor acondicionadas para el frío (Heating QC)?"
   ]
  },
  {
   "cell_type": "code",
   "execution_count": 33,
   "metadata": {
    "collapsed": false
   },
   "outputs": [
    {
     "data": {
      "text/plain": [
       "'Order;MS Zoning;Lot Frontage;Lot Area;Land Contour;Land Slope;Overall Qual;Year Built;Year Remod/Add;Mas Vnr Type;Exter Qual;Bsmt Cond;Total Bsmt SF;Heating QC;Central Air;Full Bath;Half Bath;Bedroom AbvGr;Kitchen AbvGr;Kitchen Qual;TotRms AbvGrd;Garage Cars;Garage Area;Garage Cond;Pool Area;Pool QC;Mo Sold;Yr Sold;SalePrice'"
      ]
     },
     "execution_count": 33,
     "metadata": {},
     "output_type": "execute_result"
    }
   ],
   "source": [
    "header2"
   ]
  },
  {
   "cell_type": "code",
   "execution_count": 39,
   "metadata": {
    "collapsed": false
   },
   "outputs": [
    {
     "data": {
      "text/plain": [
       "[('2000', 1312.3994910941476, 786),\n",
       " ('90', 1124.0863095238096, 336),\n",
       " ('80', 1086.0, 120),\n",
       " ('60', 1082.672268907563, 357),\n",
       " ('50', 960.7411764705882, 340),\n",
       " ('70', 953.917808219178, 365),\n",
       " ('1880', 836.0, 8),\n",
       " ('1890', 834.2, 15),\n",
       " ('20', 828.1428571428571, 196),\n",
       " ('10', 778.5272727272727, 110),\n",
       " ('30', 771.6697247706422, 109),\n",
       " ('1870', 761.0, 3),\n",
       " ('1900', 710.55, 40),\n",
       " ('40', 700.7417218543046, 151)]"
      ]
     },
     "execution_count": 39,
     "metadata": {},
     "output_type": "execute_result"
    }
   ],
   "source": [
    "parsed2.map(lambda x: ('1870' if x[7] < '1880' else(\n",
    "                '1880' if x[7] < '1890' else(\n",
    "                '1890' if x[7] < '1900' else(\n",
    "                '1900' if x[7] < '1910' else(\n",
    "                '10' if x[7] < '1920' else(\n",
    "                '20' if x[7] < '1930' else(\n",
    "                '30' if x[7] < '1940' else(\n",
    "                '40' if x[7] < '1950' else(\n",
    "                '50' if x[7] < '1960' else(\n",
    "                '60' if x[7] < '1970' else(\n",
    "                '70' if x[7] < '1980' else(\n",
    "                '80' if x[7] < '1990' else(\n",
    "                '90' if x[7] < '2000' else '2000')))))))))))),[to_float(x[12]), 1])).\\\n",
    "        reduceByKey(lambda x, y: (x[0] + y[0], x[1] + y[1])).\\\n",
    "        map(lambda x: (x[0], x[1][0]/x[1][1], x[1][1])).\\\n",
    "        sortBy(lambda x: x[1], ascending = False).\\\n",
    "        collect()\n",
    "#1º función seleccionamos el año de construcción y le pedimos que para el año de construcción nos devuelva su década, \n",
    "#después seleccionamos Total Bsmt SF (superficie sotano) y añadimos un contador. Todo esto indicando la década como un key value.\n",
    "#2º función agregamos respecto al key value (década) y se suma por cada década los valores de la superficie del sotano y se agrega el contador (iteracciones realizadas por cada década).\n",
    "#3º función igual que la realizada en el ej. anterior, seleccionamos el key value, y dividimos la suma de superficies entre el contador para la media.\n",
    "#4º función ordenamos por la media de superficie para que muestre primero la década con mayor media de superficie\n",
    "#5º Collect para devolver todos los valores."
   ]
  },
  {
   "cell_type": "markdown",
   "metadata": {},
   "source": [
    "Decada con las viviendas mejor acondicionadas"
   ]
  },
  {
   "cell_type": "code",
   "execution_count": 40,
   "metadata": {
    "collapsed": false
   },
   "outputs": [
    {
     "data": {
      "text/plain": [
       "['Fa', 'Po', 'TA', 'Gd', 'Ex']"
      ]
     },
     "execution_count": 40,
     "metadata": {},
     "output_type": "execute_result"
    }
   ],
   "source": [
    "parsed2.map(lambda x: x[13]).distinct().take(20)"
   ]
  },
  {
   "cell_type": "code",
   "execution_count": 41,
   "metadata": {
    "collapsed": false,
    "scrolled": true
   },
   "outputs": [
    {
     "data": {
      "text/plain": [
       "'2010'"
      ]
     },
     "execution_count": 41,
     "metadata": {},
     "output_type": "execute_result"
    }
   ],
   "source": [
    "parsed2.map(lambda x: x[7]).distinct().max()"
   ]
  },
  {
   "cell_type": "code",
   "execution_count": 150,
   "metadata": {
    "collapsed": false
   },
   "outputs": [
    {
     "data": {
      "text/plain": [
       "[('2000', 758),\n",
       " ('90', 251),\n",
       " ('50', 98),\n",
       " ('60', 88),\n",
       " ('70', 68),\n",
       " ('40', 56),\n",
       " ('20', 52),\n",
       " ('30', 41),\n",
       " ('10', 40),\n",
       " ('80', 28),\n",
       " ('1900', 13),\n",
       " ('1890', 5),\n",
       " ('1880', 2)]"
      ]
     },
     "execution_count": 150,
     "metadata": {},
     "output_type": "execute_result"
    }
   ],
   "source": [
    "parsed2.filter(lambda x: x[13] == 'Ex').\\\n",
    "        map(lambda x: ('1870' if x[7] < '1880' else(\n",
    "                '1880' if x[7] < '1890' else(\n",
    "                '1890' if x[7] < '1900' else(\n",
    "                '1900' if x[7] < '1910' else(\n",
    "                '10' if x[7] < '1920' else(\n",
    "                '20' if x[7] < '1930' else(\n",
    "                '30' if x[7] < '1940' else(\n",
    "                '40' if x[7] < '1950' else(\n",
    "                '50' if x[7] < '1960' else(\n",
    "                '60' if x[7] < '1970' else(\n",
    "                '70' if x[7] < '1980' else(\n",
    "                '80' if x[7] < '1990' else(\n",
    "                '90' if x[7] < '2000' else '2000')))))))))))),1)).\\\n",
    "        reduceByKey(lambda x, y: x+y).\\\n",
    "        sortBy(lambda x: x[1], ascending = False).\\\n",
    "        collect()\n",
    "#Muy similar al ejercicio anterior, filtramos para trabajar con las obs donde heating = excelente\n",
    "#2º función transformamos el año de construcción a su decada y añadimos un contador.\n",
    "#3º función sumamos el contador (la década es el key value). De esta forma obtenemos el número de viviendas con heating = Ex.\n",
    "#4º función ordenar para que muestre primero la década con más viviendas con heating  = Ex.\n",
    "#Collect para obtener todos los valores"
   ]
  },
  {
   "cell_type": "code",
   "execution_count": 149,
   "metadata": {
    "collapsed": false
   },
   "outputs": [
    {
     "data": {
      "text/plain": [
       "('2000', 758)"
      ]
     },
     "execution_count": 149,
     "metadata": {},
     "output_type": "execute_result"
    }
   ],
   "source": [
    "parsed2.filter(lambda x: x[13] == 'Ex').\\\n",
    "        map(lambda x: ('1870' if x[7] < '1880' else(\n",
    "                '1880' if x[7] < '1890' else(\n",
    "                '1890' if x[7] < '1900' else(\n",
    "                '1900' if x[7] < '1910' else(\n",
    "                '10' if x[7] < '1920' else(\n",
    "                '20' if x[7] < '1930' else(\n",
    "                '30' if x[7] < '1940' else(\n",
    "                '40' if x[7] < '1950' else(\n",
    "                '50' if x[7] < '1960' else(\n",
    "                '60' if x[7] < '1970' else(\n",
    "                '70' if x[7] < '1980' else(\n",
    "                '80' if x[7] < '1990' else(\n",
    "                '90' if x[7] < '2000' else '2000')))))))))))),1)).\\\n",
    "        reduceByKey(lambda x, y: x+y).\\\n",
    "        max(lambda x: x[1])\n",
    "#En vez de collect, max para obtener la década con más viviendas con heating  = Excelente."
   ]
  },
  {
   "cell_type": "markdown",
   "metadata": {},
   "source": [
    "## ¿Cuáles son las 10 viviendas que se vendieron por un precio más elevado por metro cuadrado en el año 2009?"
   ]
  },
  {
   "cell_type": "code",
   "execution_count": 44,
   "metadata": {
    "collapsed": false,
    "scrolled": true
   },
   "outputs": [
    {
     "data": {
      "text/plain": [
       "'Order;MS Zoning;Lot Frontage;Lot Area;Land Contour;Land Slope;Overall Qual;Year Built;Year Remod/Add;Mas Vnr Type;Exter Qual;Bsmt Cond;Total Bsmt SF;Heating QC;Central Air;Full Bath;Half Bath;Bedroom AbvGr;Kitchen AbvGr;Kitchen Qual;TotRms AbvGrd;Garage Cars;Garage Area;Garage Cond;Pool Area;Pool QC;Mo Sold;Yr Sold;SalePrice'"
      ]
     },
     "execution_count": 44,
     "metadata": {},
     "output_type": "execute_result"
    }
   ],
   "source": [
    "header2"
   ]
  },
  {
   "cell_type": "code",
   "execution_count": 152,
   "metadata": {
    "collapsed": false
   },
   "outputs": [
    {
     "data": {
      "text/plain": [
       "[('566', '2009', [29.712708333333335]),\n",
       " ('936', '2009', [29.073230769230772]),\n",
       " ('934', '2009', [28.062903225806455]),\n",
       " ('464', '2009', [23.24973544973545]),\n",
       " ('935', '2009', [22.87890818858561]),\n",
       " ('408', '2009', [21.680714285714284]),\n",
       " ('407', '2009', [21.408571428571427]),\n",
       " ('405', '2009', [20.32]),\n",
       " ('933', '2009', [20.226197345643392]),\n",
       " ('403', '2009', [20.138571428571428])]"
      ]
     },
     "execution_count": 152,
     "metadata": {},
     "output_type": "execute_result"
    }
   ],
   "source": [
    "parsed2.filter(lambda x: x[-2] == '2009').\\\n",
    "        map(lambda x: (x[0],x[-2], [to_float(x[-1]) / (to_float(x[3])/0.3048)])).\\\n",
    "        sortBy(lambda x: x[2], ascending = False).\\\n",
    "        take(10)\n",
    "#1º función filtrar para trabajar solo con el año de venta de 2009\n",
    "#2º función selecciona las variables de id, año de venta (para ser más facil de comprender, se puede cambiar el año y asi se sabe en que año es)\n",
    "# y después obtener el metro cuadrado, esto se realiza dividiendo el precio de venta entre los metros (metros = pies / 0.03048 cambio de medida)\n",
    "#3º función ordenar por metro cuadrado que está en la posición x[2] de mayor a menor\n",
    "#take(10) para obtener los 10 valores más altos. con sus respectivos id de la vivienda. También se podría obtener todos los valores de esa vivienda seleccionando el total del rdd"
   ]
  },
  {
   "cell_type": "markdown",
   "metadata": {},
   "source": [
    "## Media anual por zonas del precio de venta y metros cuadrados."
   ]
  },
  {
   "cell_type": "code",
   "execution_count": 46,
   "metadata": {
    "collapsed": false,
    "scrolled": true
   },
   "outputs": [
    {
     "data": {
      "text/plain": [
       "['2007', '2010', '2008', '2006', '2009']"
      ]
     },
     "execution_count": 46,
     "metadata": {},
     "output_type": "execute_result"
    }
   ],
   "source": [
    "parsed2.map(lambda x: x[-2]).distinct().collect()"
   ]
  },
  {
   "cell_type": "code",
   "execution_count": 154,
   "metadata": {
    "collapsed": false
   },
   "outputs": [
    {
     "data": {
      "text/plain": [
       "[(('RM', '2006'), (704.9411705602902, 61.542154125370395, 102)),\n",
       " (('FV', '2006'), (10017.858040876381, 1079.5166927215419, 23)),\n",
       " (('A', '2006'), [81500.0, 102526.2467191601, 1]),\n",
       " (('C', '2006'), (17510.755555555555, 6073.8052274715665, 6)),\n",
       " (('RH', '2006'), (28553.88888888889, 4540.832786526684, 6)),\n",
       " (('RL', '2006'), (650.3772837860471, 90.81978183685105, 493)),\n",
       " (('C', '2007'), (53454.16666666667, 8877.405949256343, 4)),\n",
       " (('RH', '2007'), (21393.89880952381, 3110.7095499781276, 8)),\n",
       " (('RL', '2007'), (225.0352596658118, 61.983053559315216, 554)),\n",
       " (('RM', '2007'), (801.0277227764846, 65.99069345540116, 95)),\n",
       " (('FV', '2007'), (7153.823988652204, 727.8727768542701, 33)),\n",
       " (('A', '2008'), [13100.0, 47847.769028871386, 1]),\n",
       " (('I', '2008'), [103000.0, 185695.5380577428, 1]),\n",
       " (('FV', '2008'), (6991.52300354241, 808.024842056448, 31)),\n",
       " (('RM', '2008'), (39.21202150188168, 4.645755860322385, 123)),\n",
       " (('C', '2008'), (19473.333333333332, 9516.622922134733, 5)),\n",
       " (('RL', '2008'), (5.129798829007286, 0.9936189792695045, 458)),\n",
       " (('RH', '2008'), (105333.33333333333, 15748.031496062991, 3)),\n",
       " (('RM', '2009'), (1061.673656469175, 87.32071379697689, 84)),\n",
       " (('FV', '2009'), (5554.139746865218, 283.98720306019806, 32)),\n",
       " (('I', '2009'), [57625.0, 71456.69291338582, 1]),\n",
       " (('C', '2009'), (20761.666666666664, 8901.547462817147, 5)),\n",
       " (('RH', '2009'), (42930.13333333333, 4824.420384951881, 5)),\n",
       " (('RL', '2009'), (332.778130129485, 65.96894623000576, 521)),\n",
       " (('C', '2010'), (15888.258333333331, 8003.4175415573045, 5)),\n",
       " (('RH', '2010'), (41278.333333333336, 6730.314960629921, 5)),\n",
       " (('RL', '2010'), (917.5237406959131, 168.58616978072482, 253)),\n",
       " (('RM', '2010'), (1501.2472517914953, 108.82258146849048, 58)),\n",
       " (('FV', '2010'), (12208.945349403935, 1382.2824009429182, 20))]"
      ]
     },
     "execution_count": 154,
     "metadata": {},
     "output_type": "execute_result"
    }
   ],
   "source": [
    "parsed2.map(lambda x: ((rename(x[1]), x[-2]), [to_float(x[-1]), (to_float(x[3])/0.3048), 1])).\\\n",
    "        reduceByKey(lambda x, y: ((x[0] + y[0])/(x[2] + y[2]), (x[1] + y[1])/(x[2] + y[2]), x[2] + y[2])).\\\n",
    "        sortBy(lambda x: x[0][1]).\\\n",
    "        collect()\n",
    "#1º función selecciona las variables de zona, año de venta (key) y el precio de venta, metros cuadrados y contador (value)\n",
    "#2º función se agrega por el key value, se suma el precio de venta dividido entre el contador (media anual/zona de ventas),\n",
    "#se suman los metros cuadrados y se divide por el contador (media anual/zona de metros cuadrados) y se agrega el contador\n",
    "#Se ordena de menor a mayor por la fecha de venta., se obtiene la zona de venta, fecha de venta, media de precio por año y zona\n",
    "#media de metros cuadrados por zona y fecha y cantidad de viviendas vendidas por zona y fecha"
   ]
  },
  {
   "cell_type": "markdown",
   "metadata": {},
   "source": [
    "## ¿Podrías decirme el total de recaudación de las casas de revistimiento (Mas Vnr Type) de piedra con respecto a las de ladrillo? ¿Hay diferencia significativa?"
   ]
  },
  {
   "cell_type": "code",
   "execution_count": 223,
   "metadata": {
    "collapsed": false,
    "scrolled": true
   },
   "outputs": [
    {
     "data": {
      "text/plain": [
       "['', 'None', 'CBlock', 'Stone', 'BrkFace', 'BrkCmn']"
      ]
     },
     "execution_count": 223,
     "metadata": {},
     "output_type": "execute_result"
    }
   ],
   "source": [
    "parsed2.map(lambda x: x[9]).distinct().collect()"
   ]
  },
  {
   "cell_type": "code",
   "execution_count": 48,
   "metadata": {
    "collapsed": false
   },
   "outputs": [
    {
     "data": {
      "text/plain": [
       "[('Stone', 65196277.0), ('BrkFace', 186003261.0), ('BrkCmn', 3504975.0)]"
      ]
     },
     "execution_count": 48,
     "metadata": {},
     "output_type": "execute_result"
    }
   ],
   "source": [
    "parsed2.filter(lambda x: ((x[9] == 'BrkCmn') | (x[9] == 'BrkFace') | (x[9] == 'Stone'))).\\\n",
    "    map(lambda x: (x[9], to_float(x[-1]))).\\\n",
    "    reduceByKey(lambda x, y: x+y).\\\n",
    "    collect()\n",
    "#1º función se filtra para obtener solo las observaciones donde la vivienda es de ladrillo o piedra\n",
    "#2º función se selecciona la variable de revestimiento x[9], y se obtiene el precio de venta.\n",
    "#3º función se agrega por el tipo de revestimiento y se obtiene la suma de los precios para cada key.\n",
    "#collect() se recuperan todos los resultados"
   ]
  },
  {
   "cell_type": "markdown",
   "metadata": {},
   "source": [
    "La recaudación total del ladrillo visto es significativamente superior a la de piedra, sin embargo la recaudación de la piedra es mayor que el del ladrillo normal. Si lo analizamos teniendo en cuenta el número de viviendas vendidas:"
   ]
  },
  {
   "cell_type": "code",
   "execution_count": 155,
   "metadata": {
    "collapsed": false
   },
   "outputs": [
    {
     "data": {
      "text/plain": [
       "[('Stone', 260785.108), ('BrkFace', 210888.05102040817), ('BrkCmn', 140199.0)]"
      ]
     },
     "execution_count": 155,
     "metadata": {},
     "output_type": "execute_result"
    }
   ],
   "source": [
    "parsed2.filter(lambda x: ((x[9] == 'BrkCmn') | (x[9] == 'BrkFace') | (x[9] == 'Stone'))).\\\n",
    "    map(lambda x: (x[9], [to_float(x[-1]),1])).\\\n",
    "    reduceByKey(lambda x, y: ([x[0]+y[0], x[1]+y[1]])).\\\n",
    "    map(lambda x: (x[0], x[1][0] / x[1][1])).\\\n",
    "    collect()\n",
    "#Lo mismo que el anterior pero añadiendo un contador para posteriormente al hacer el agregado obtener el total de la suma de los precios\n",
    "#de venta y la suma del contador(nº viviendas con ese revestimiento).\n",
    "#la función map del final selecciona la variable del revestimiento y la media del precio de venta de las viviendas dependiendo de su revestimiento"
   ]
  },
  {
   "cell_type": "markdown",
   "metadata": {},
   "source": [
    "Se observa que la recaudación por vivienda es superior para las que tienen un revestimiento de piedra que de ladrillo."
   ]
  },
  {
   "cell_type": "markdown",
   "metadata": {},
   "source": [
    "## ¿Cuánto son más caras las viviendas con 2 cocinas, con 2 o más plazas de garaje que las que tienen 1 cocina y 1 plaza de garaje? Comparar medias y cuartiles de ambos casos"
   ]
  },
  {
   "cell_type": "code",
   "execution_count": 274,
   "metadata": {
    "collapsed": false
   },
   "outputs": [
    {
     "data": {
      "text/plain": [
       "'Order;MS Zoning;Lot Frontage;Lot Area;Land Contour;Land Slope;Overall Qual;Year Built;Year Remod/Add;Mas Vnr Type;Exter Qual;Bsmt Cond;Total Bsmt SF;Heating QC;Central Air;Full Bath;Half Bath;Bedroom AbvGr;Kitchen AbvGr;Kitchen Qual;TotRms AbvGrd;Garage Cars;Garage Area;Garage Cond;Pool Area;Pool QC;Mo Sold;Yr Sold;SalePrice'"
      ]
     },
     "execution_count": 274,
     "metadata": {},
     "output_type": "execute_result"
    }
   ],
   "source": [
    "header2"
   ]
  },
  {
   "cell_type": "code",
   "execution_count": 276,
   "metadata": {
    "collapsed": false
   },
   "outputs": [
    {
     "data": {
      "text/plain": [
       "['4', '', '1', '0', '5', '3', '2']"
      ]
     },
     "execution_count": 276,
     "metadata": {},
     "output_type": "execute_result"
    }
   ],
   "source": [
    "parsed2.map(lambda x: x[21]).distinct().collect()"
   ]
  },
  {
   "cell_type": "markdown",
   "metadata": {},
   "source": [
    "#### Datos para 2 cocinas y 2 o más plazas de garaje."
   ]
  },
  {
   "cell_type": "markdown",
   "metadata": {},
   "source": [
    "Media"
   ]
  },
  {
   "cell_type": "code",
   "execution_count": 156,
   "metadata": {
    "collapsed": false
   },
   "outputs": [
    {
     "data": {
      "text/plain": [
       "[144995.2643678161]"
      ]
     },
     "execution_count": 156,
     "metadata": {},
     "output_type": "execute_result"
    }
   ],
   "source": [
    "media_2 = parsed2.filter(lambda x: ((x[18] == '2') & (x[21] >= '2'))).\\\n",
    "        map(lambda x: (x[18], (to_float(x[-1]), 1))).\\\n",
    "        reduceByKey(lambda x, y: ([x[0]+y[0], x[1]+y[1]])).\\\n",
    "        map(lambda x: (x[1][0]/x[1][1])).\\\n",
    "        collect()\n",
    "media_2\n",
    "#obtención de la media, 1º se filtra para que sean 2 cocinas y 2 o más plazas de garaje.\n",
    "#2º selecciona la variable cocinas para tener un valor key que siempre es el mismo (2) y el precio de venta y se añade un contador.\n",
    "#3º reducir por la key (nº cocinas que siempre es 2) y hace el agregado del precio de venta y del contador.\n",
    "#4 con el map obtenemos de la variable en la posición x[1][0] que es el precio, la media al dividirlo por el contador\n",
    "#collect para obtener el resultado de la media.\n",
    "# Este proceso es el mismo para 1 cocina 1 plaza de garaje pero cambiando el filtro"
   ]
  },
  {
   "cell_type": "markdown",
   "metadata": {},
   "source": [
    "Para los cuartiles, se debe obtener el valor que corresponde al 25 % de la base de datos sobre el precio siendo la mediana el 50 % y el 3º cuartil el 75 %."
   ]
  },
  {
   "cell_type": "code",
   "execution_count": 119,
   "metadata": {
    "collapsed": false
   },
   "outputs": [
    {
     "data": {
      "text/plain": [
       "[21.75]"
      ]
     },
     "execution_count": 119,
     "metadata": {},
     "output_type": "execute_result"
    }
   ],
   "source": [
    "length = parsed2.filter(lambda x: ((x[18] == '2') & (x[21] >= '2'))).count()\n",
    "parsed2.filter(lambda x: ((x[18] == '2') & (x[21] >= '2'))).\\\n",
    "            map(lambda x: ((length*1)/4)).take(1)\n",
    "#length es la distancia del rdd cuando cuenta con 2 cocinas y 2 o más plazas de garaje.\n",
    "# la siguiente función filtra para 2 cocinas 2 o más garaje. lo hacemos para saber la posicion del 1º cuartil\n",
    "#calculamos la posicioón del 1º cuartil, en este caso la posición 21,75."
   ]
  },
  {
   "cell_type": "code",
   "execution_count": 121,
   "metadata": {
    "collapsed": false
   },
   "outputs": [
    {
     "data": {
      "text/plain": [
       "[81400.0,\n",
       " 87000.0,\n",
       " 87500.0,\n",
       " 90000.0,\n",
       " 90000.0,\n",
       " 90000.0,\n",
       " 92900.0,\n",
       " 93500.0,\n",
       " 95000.0,\n",
       " 100000.0,\n",
       " 101800.0,\n",
       " 103000.0,\n",
       " 103500.0,\n",
       " 108959.0,\n",
       " 110000.0,\n",
       " 111500.0,\n",
       " 112000.0,\n",
       " 113722.0,\n",
       " 114900.0,\n",
       " 118858.0,\n",
       " 118858.0,\n",
       " 118964.0]"
      ]
     },
     "execution_count": 121,
     "metadata": {},
     "output_type": "execute_result"
    }
   ],
   "source": [
    "parsed2.filter(lambda x: ((x[18] == '2') & (x[21] >= '2'))).\\\n",
    "            map(lambda x: to_float(x[-1])).\\\n",
    "    sortBy(lambda x: x).take(22)\n",
    "#Continuación del anterior función. Se filtra para 2 cocincas 2 o más garajes, se selecciona la variable de precio y como\n",
    "#el 1º cuartil esta en la posición 2º.75 (22), hacemos un take de las 22 primeras obs y seleccionamos la 22 y 21 para sacar la media.\n",
    "#(obtención matemática de los caurtiles)\n",
    "#Este proceso se sigue para todos los cuartiles cambiando simplemente la posición del cuartil en X (map(lambda x: ((length*X)/4)).take(1))\n",
    "#Para 1 cocina 1 plaza garaje cambiamos el filtro y se procede de la misma forma."
   ]
  },
  {
   "cell_type": "code",
   "execution_count": 132,
   "metadata": {
    "collapsed": false
   },
   "outputs": [
    {
     "data": {
      "text/plain": [
       "118911.0"
      ]
     },
     "execution_count": 132,
     "metadata": {},
     "output_type": "execute_result"
    }
   ],
   "source": [
    "c1_2 = (118858.0 + 118964.0) / 2 #1º Cuartil\n",
    "c1_2"
   ]
  },
  {
   "cell_type": "code",
   "execution_count": 123,
   "metadata": {
    "collapsed": false
   },
   "outputs": [
    {
     "data": {
      "text/plain": [
       "[43.5]"
      ]
     },
     "execution_count": 123,
     "metadata": {},
     "output_type": "execute_result"
    }
   ],
   "source": [
    "parsed2.filter(lambda x: ((x[18] == '2') & (x[21] >= '2'))).\\\n",
    "            map(lambda x: ((length*2)/4)).take(1)"
   ]
  },
  {
   "cell_type": "code",
   "execution_count": 124,
   "metadata": {
    "collapsed": false,
    "scrolled": true
   },
   "outputs": [
    {
     "data": {
      "text/plain": [
       "[81400.0,\n",
       " 87000.0,\n",
       " 87500.0,\n",
       " 90000.0,\n",
       " 90000.0,\n",
       " 90000.0,\n",
       " 92900.0,\n",
       " 93500.0,\n",
       " 95000.0,\n",
       " 100000.0,\n",
       " 101800.0,\n",
       " 103000.0,\n",
       " 103500.0,\n",
       " 108959.0,\n",
       " 110000.0,\n",
       " 111500.0,\n",
       " 112000.0,\n",
       " 113722.0,\n",
       " 114900.0,\n",
       " 118858.0,\n",
       " 118858.0,\n",
       " 118964.0,\n",
       " 119000.0,\n",
       " 119500.0,\n",
       " 122500.0,\n",
       " 124000.0,\n",
       " 124500.0,\n",
       " 125000.0,\n",
       " 126000.0,\n",
       " 126000.0,\n",
       " 128600.0,\n",
       " 129900.0,\n",
       " 130000.0,\n",
       " 133000.0,\n",
       " 133900.0,\n",
       " 135000.0,\n",
       " 135000.0,\n",
       " 135000.0,\n",
       " 136905.0,\n",
       " 137000.0,\n",
       " 139500.0,\n",
       " 140000.0,\n",
       " 140500.0,\n",
       " 141000.0]"
      ]
     },
     "execution_count": 124,
     "metadata": {},
     "output_type": "execute_result"
    }
   ],
   "source": [
    "parsed2.filter(lambda x: ((x[18] == '2') & (x[21] >= '2'))).\\\n",
    "            map(lambda x: to_float(x[-1])).\\\n",
    "    sortBy(lambda x: x).take(44)"
   ]
  },
  {
   "cell_type": "code",
   "execution_count": 133,
   "metadata": {
    "collapsed": false
   },
   "outputs": [
    {
     "data": {
      "text/plain": [
       "140750.0"
      ]
     },
     "execution_count": 133,
     "metadata": {},
     "output_type": "execute_result"
    }
   ],
   "source": [
    "c2_2 = (140500.0 + 141000.0) / 2 # Mediana\n",
    "c2_2"
   ]
  },
  {
   "cell_type": "code",
   "execution_count": 126,
   "metadata": {
    "collapsed": false
   },
   "outputs": [
    {
     "data": {
      "text/plain": [
       "[65.25]"
      ]
     },
     "execution_count": 126,
     "metadata": {},
     "output_type": "execute_result"
    }
   ],
   "source": [
    "parsed2.filter(lambda x: ((x[18] == '2') & (x[21] >= '2'))).\\\n",
    "            map(lambda x: ((length*3)/4)).take(1)"
   ]
  },
  {
   "cell_type": "code",
   "execution_count": 127,
   "metadata": {
    "collapsed": false,
    "scrolled": true
   },
   "outputs": [
    {
     "data": {
      "text/plain": [
       "[81400.0,\n",
       " 87000.0,\n",
       " 87500.0,\n",
       " 90000.0,\n",
       " 90000.0,\n",
       " 90000.0,\n",
       " 92900.0,\n",
       " 93500.0,\n",
       " 95000.0,\n",
       " 100000.0,\n",
       " 101800.0,\n",
       " 103000.0,\n",
       " 103500.0,\n",
       " 108959.0,\n",
       " 110000.0,\n",
       " 111500.0,\n",
       " 112000.0,\n",
       " 113722.0,\n",
       " 114900.0,\n",
       " 118858.0,\n",
       " 118858.0,\n",
       " 118964.0,\n",
       " 119000.0,\n",
       " 119500.0,\n",
       " 122500.0,\n",
       " 124000.0,\n",
       " 124500.0,\n",
       " 125000.0,\n",
       " 126000.0,\n",
       " 126000.0,\n",
       " 128600.0,\n",
       " 129900.0,\n",
       " 130000.0,\n",
       " 133000.0,\n",
       " 133900.0,\n",
       " 135000.0,\n",
       " 135000.0,\n",
       " 135000.0,\n",
       " 136905.0,\n",
       " 137000.0,\n",
       " 139500.0,\n",
       " 140000.0,\n",
       " 140500.0,\n",
       " 141000.0,\n",
       " 142600.0,\n",
       " 142953.0,\n",
       " 143000.0,\n",
       " 144000.0,\n",
       " 144000.0,\n",
       " 145000.0,\n",
       " 145000.0,\n",
       " 145000.0,\n",
       " 145000.0,\n",
       " 145000.0,\n",
       " 146000.0,\n",
       " 146500.0,\n",
       " 147983.0,\n",
       " 148325.0,\n",
       " 150000.0,\n",
       " 150900.0,\n",
       " 153337.0,\n",
       " 154300.0,\n",
       " 155000.0,\n",
       " 156500.0,\n",
       " 157000.0,\n",
       " 159000.0]"
      ]
     },
     "execution_count": 127,
     "metadata": {},
     "output_type": "execute_result"
    }
   ],
   "source": [
    "parsed2.filter(lambda x: ((x[18] == '2') & (x[21] >= '2'))).\\\n",
    "            map(lambda x: to_float(x[-1])).\\\n",
    "    sortBy(lambda x: x).take(66)"
   ]
  },
  {
   "cell_type": "code",
   "execution_count": 134,
   "metadata": {
    "collapsed": false
   },
   "outputs": [
    {
     "data": {
      "text/plain": [
       "158000.0"
      ]
     },
     "execution_count": 134,
     "metadata": {},
     "output_type": "execute_result"
    }
   ],
   "source": [
    "c3_2 = (157000.0 + 159000.0)/2 #3º cuartil4\n",
    "c3_2"
   ]
  },
  {
   "cell_type": "code",
   "execution_count": 135,
   "metadata": {
    "collapsed": false
   },
   "outputs": [
    {
     "data": {
      "text/plain": [
       "269500.0"
      ]
     },
     "execution_count": 135,
     "metadata": {},
     "output_type": "execute_result"
    }
   ],
   "source": [
    "max_2 = parsed2.filter(lambda x: ((x[18] == '2') & (x[21] >= '2'))).\\\n",
    "            map(lambda x: to_float(x[-1])).\\\n",
    "    sortBy(lambda x: x).max()\n",
    "max_2"
   ]
  },
  {
   "cell_type": "markdown",
   "metadata": {},
   "source": [
    "#### Datos para 1 cocina y una plaza de garaje"
   ]
  },
  {
   "cell_type": "markdown",
   "metadata": {},
   "source": [
    "Con 1 cocina y 1 plaza de garaje."
   ]
  },
  {
   "cell_type": "code",
   "execution_count": 136,
   "metadata": {
    "collapsed": false
   },
   "outputs": [
    {
     "data": {
      "text/plain": [
       "[127367.04161248375]"
      ]
     },
     "execution_count": 136,
     "metadata": {},
     "output_type": "execute_result"
    }
   ],
   "source": [
    "mean_1 = parsed2.filter(lambda x: ((x[18] == '1') & (x[21] == '1'))).\\\n",
    "        map(lambda x: (x[18], (to_float(x[-1]), 1))).\\\n",
    "        reduceByKey(lambda x, y: ([x[0]+y[0], x[1]+y[1]])).\\\n",
    "        map(lambda x: (x[1][0]/x[1][1])).\\\n",
    "        collect()\n",
    "mean_1"
   ]
  },
  {
   "cell_type": "markdown",
   "metadata": {},
   "source": [
    "Para los cuartiles, se debe obtener el valor que corresponde al 25 % de la base de datos sobre el precio siendo la mediana el 50 % y el 3º cuartil el 75 %."
   ]
  },
  {
   "cell_type": "code",
   "execution_count": 66,
   "metadata": {
    "collapsed": false
   },
   "outputs": [
    {
     "data": {
      "text/plain": [
       "[192.25]"
      ]
     },
     "execution_count": 66,
     "metadata": {},
     "output_type": "execute_result"
    }
   ],
   "source": [
    "length = parsed2.filter(lambda x: ((x[18] == '1') & (x[21] == '1'))).count()\n",
    "parsed2.filter(lambda x: ((x[18] == '1') & (x[21] == '1'))).\\\n",
    "            map(lambda x: ((length*1)/4)).take(1)"
   ]
  },
  {
   "cell_type": "code",
   "execution_count": 108,
   "metadata": {
    "collapsed": false,
    "scrolled": true
   },
   "outputs": [
    {
     "data": {
      "text/plain": [
       "[35000.0,\n",
       " 35311.0,\n",
       " 40000.0,\n",
       " 45000.0,\n",
       " 46500.0,\n",
       " 50000.0,\n",
       " 50138.0,\n",
       " 57625.0,\n",
       " 58500.0,\n",
       " 60000.0,\n",
       " 60000.0,\n",
       " 61500.0,\n",
       " 62383.0,\n",
       " 63000.0,\n",
       " 64000.0,\n",
       " 64000.0,\n",
       " 64500.0,\n",
       " 65000.0,\n",
       " 66500.0,\n",
       " 67000.0,\n",
       " 67500.0,\n",
       " 68104.0,\n",
       " 68500.0,\n",
       " 71000.0,\n",
       " 72500.0,\n",
       " 75000.0,\n",
       " 75000.0,\n",
       " 75000.0,\n",
       " 75190.0,\n",
       " 75200.0,\n",
       " 78000.0,\n",
       " 78000.0,\n",
       " 78500.0,\n",
       " 79000.0,\n",
       " 79000.0,\n",
       " 79400.0,\n",
       " 79500.0,\n",
       " 80000.0,\n",
       " 80000.0,\n",
       " 80000.0,\n",
       " 80000.0,\n",
       " 80000.0,\n",
       " 80000.0,\n",
       " 80400.0,\n",
       " 80900.0,\n",
       " 81300.0,\n",
       " 81500.0,\n",
       " 82000.0,\n",
       " 82000.0,\n",
       " 83000.0,\n",
       " 83000.0,\n",
       " 83500.0,\n",
       " 84000.0,\n",
       " 84900.0,\n",
       " 84900.0,\n",
       " 85000.0,\n",
       " 85000.0,\n",
       " 85000.0,\n",
       " 85000.0,\n",
       " 85000.0,\n",
       " 85400.0,\n",
       " 85500.0,\n",
       " 85500.0,\n",
       " 86000.0,\n",
       " 86000.0,\n",
       " 86900.0,\n",
       " 86900.0,\n",
       " 87000.0,\n",
       " 87000.0,\n",
       " 87000.0,\n",
       " 87550.0,\n",
       " 88000.0,\n",
       " 88000.0,\n",
       " 88000.0,\n",
       " 88750.0,\n",
       " 89000.0,\n",
       " 89000.0,\n",
       " 89000.0,\n",
       " 89500.0,\n",
       " 89500.0,\n",
       " 89900.0,\n",
       " 90000.0,\n",
       " 90350.0,\n",
       " 91000.0,\n",
       " 91000.0,\n",
       " 91000.0,\n",
       " 91300.0,\n",
       " 91500.0,\n",
       " 93000.0,\n",
       " 94500.0,\n",
       " 94750.0,\n",
       " 94900.0,\n",
       " 95000.0,\n",
       " 95000.0,\n",
       " 96000.0,\n",
       " 96000.0,\n",
       " 96500.0,\n",
       " 96900.0,\n",
       " 97000.0,\n",
       " 97000.0,\n",
       " 97500.0,\n",
       " 97900.0,\n",
       " 98000.0,\n",
       " 98000.0,\n",
       " 99000.0,\n",
       " 99000.0,\n",
       " 99500.0,\n",
       " 99500.0,\n",
       " 99500.0,\n",
       " 99800.0,\n",
       " 99900.0,\n",
       " 99900.0,\n",
       " 100000.0,\n",
       " 100000.0,\n",
       " 100000.0,\n",
       " 100000.0,\n",
       " 100000.0,\n",
       " 100000.0,\n",
       " 100000.0,\n",
       " 100000.0,\n",
       " 100500.0,\n",
       " 101000.0,\n",
       " 102000.0,\n",
       " 102000.0,\n",
       " 102000.0,\n",
       " 102776.0,\n",
       " 102900.0,\n",
       " 103000.0,\n",
       " 103400.0,\n",
       " 103500.0]"
      ]
     },
     "execution_count": 108,
     "metadata": {},
     "output_type": "execute_result"
    }
   ],
   "source": [
    "parsed2.filter(lambda x: ((x[18] == '1') & (x[21] == '1'))).\\\n",
    "            map(lambda x: to_float(x[-1])).\\\n",
    "            sortBy(lambda x: x, ascending = True).\\\n",
    "            take(130)\n"
   ]
  },
  {
   "cell_type": "code",
   "execution_count": 137,
   "metadata": {
    "collapsed": false,
    "scrolled": true
   },
   "outputs": [
    {
     "data": {
      "text/plain": [
       "103450.0"
      ]
     },
     "execution_count": 137,
     "metadata": {},
     "output_type": "execute_result"
    }
   ],
   "source": [
    "c1_1 = (103400 + 103500) / 2  #El primer cuartil para 1 cocina y 1 garaje:\n",
    "c1_1"
   ]
  },
  {
   "cell_type": "code",
   "execution_count": 81,
   "metadata": {
    "collapsed": false
   },
   "outputs": [
    {
     "data": {
      "text/plain": [
       "[384.5]"
      ]
     },
     "execution_count": 81,
     "metadata": {},
     "output_type": "execute_result"
    }
   ],
   "source": [
    "parsed2.filter(lambda x: ((x[18] == '1') & (x[21] == '1'))).\\\n",
    "            map(lambda x: ((length*2)/4)).take(1)"
   ]
  },
  {
   "cell_type": "code",
   "execution_count": 111,
   "metadata": {
    "collapsed": false
   },
   "outputs": [
    {
     "data": {
      "text/plain": [
       "[35000.0,\n",
       " 35311.0,\n",
       " 40000.0,\n",
       " 45000.0,\n",
       " 46500.0,\n",
       " 50000.0,\n",
       " 50138.0,\n",
       " 57625.0,\n",
       " 58500.0,\n",
       " 60000.0,\n",
       " 60000.0,\n",
       " 61500.0,\n",
       " 62383.0,\n",
       " 63000.0,\n",
       " 64000.0,\n",
       " 64000.0,\n",
       " 64500.0,\n",
       " 65000.0,\n",
       " 66500.0,\n",
       " 67000.0,\n",
       " 67500.0,\n",
       " 68104.0,\n",
       " 68500.0,\n",
       " 71000.0,\n",
       " 72500.0,\n",
       " 75000.0,\n",
       " 75000.0,\n",
       " 75000.0,\n",
       " 75190.0,\n",
       " 75200.0,\n",
       " 78000.0,\n",
       " 78000.0,\n",
       " 78500.0,\n",
       " 79000.0,\n",
       " 79000.0,\n",
       " 79400.0,\n",
       " 79500.0,\n",
       " 80000.0,\n",
       " 80000.0,\n",
       " 80000.0,\n",
       " 80000.0,\n",
       " 80000.0,\n",
       " 80000.0,\n",
       " 80400.0,\n",
       " 80900.0,\n",
       " 81300.0,\n",
       " 81500.0,\n",
       " 82000.0,\n",
       " 82000.0,\n",
       " 83000.0,\n",
       " 83000.0,\n",
       " 83500.0,\n",
       " 84000.0,\n",
       " 84900.0,\n",
       " 84900.0,\n",
       " 85000.0,\n",
       " 85000.0,\n",
       " 85000.0,\n",
       " 85000.0,\n",
       " 85000.0,\n",
       " 85400.0,\n",
       " 85500.0,\n",
       " 85500.0,\n",
       " 86000.0,\n",
       " 86000.0,\n",
       " 86900.0,\n",
       " 86900.0,\n",
       " 87000.0,\n",
       " 87000.0,\n",
       " 87000.0,\n",
       " 87550.0,\n",
       " 88000.0,\n",
       " 88000.0,\n",
       " 88000.0,\n",
       " 88750.0,\n",
       " 89000.0,\n",
       " 89000.0,\n",
       " 89000.0,\n",
       " 89500.0,\n",
       " 89500.0,\n",
       " 89900.0,\n",
       " 90000.0,\n",
       " 90350.0,\n",
       " 91000.0,\n",
       " 91000.0,\n",
       " 91000.0,\n",
       " 91300.0,\n",
       " 91500.0,\n",
       " 93000.0,\n",
       " 94500.0,\n",
       " 94750.0,\n",
       " 94900.0,\n",
       " 95000.0,\n",
       " 95000.0,\n",
       " 96000.0,\n",
       " 96000.0,\n",
       " 96500.0,\n",
       " 96900.0,\n",
       " 97000.0,\n",
       " 97000.0,\n",
       " 97500.0,\n",
       " 97900.0,\n",
       " 98000.0,\n",
       " 98000.0,\n",
       " 99000.0,\n",
       " 99000.0,\n",
       " 99500.0,\n",
       " 99500.0,\n",
       " 99500.0,\n",
       " 99800.0,\n",
       " 99900.0,\n",
       " 99900.0,\n",
       " 100000.0,\n",
       " 100000.0,\n",
       " 100000.0,\n",
       " 100000.0,\n",
       " 100000.0,\n",
       " 100000.0,\n",
       " 100000.0,\n",
       " 100000.0,\n",
       " 100500.0,\n",
       " 101000.0,\n",
       " 102000.0,\n",
       " 102000.0,\n",
       " 102000.0,\n",
       " 102776.0,\n",
       " 102900.0,\n",
       " 103000.0,\n",
       " 103400.0,\n",
       " 103500.0,\n",
       " 103600.0,\n",
       " 104000.0,\n",
       " 104000.0,\n",
       " 104500.0,\n",
       " 104500.0,\n",
       " 104900.0,\n",
       " 104900.0,\n",
       " 105000.0,\n",
       " 105000.0,\n",
       " 105000.0,\n",
       " 105000.0,\n",
       " 105000.0,\n",
       " 105000.0,\n",
       " 105000.0,\n",
       " 105000.0,\n",
       " 105000.0,\n",
       " 105000.0,\n",
       " 105000.0,\n",
       " 105500.0,\n",
       " 106000.0,\n",
       " 106500.0,\n",
       " 106500.0,\n",
       " 106500.0,\n",
       " 106900.0,\n",
       " 107000.0,\n",
       " 107000.0,\n",
       " 107000.0,\n",
       " 107500.0,\n",
       " 107500.0,\n",
       " 107900.0,\n",
       " 108000.0,\n",
       " 108000.0,\n",
       " 108000.0,\n",
       " 108000.0,\n",
       " 108000.0,\n",
       " 108000.0,\n",
       " 108000.0,\n",
       " 108000.0,\n",
       " 108000.0,\n",
       " 108480.0,\n",
       " 108500.0,\n",
       " 108500.0,\n",
       " 108500.0,\n",
       " 108538.0,\n",
       " 109000.0,\n",
       " 109000.0,\n",
       " 109000.0,\n",
       " 109008.0,\n",
       " 109500.0,\n",
       " 109500.0,\n",
       " 109500.0,\n",
       " 109500.0,\n",
       " 109900.0,\n",
       " 109900.0,\n",
       " 110000.0,\n",
       " 110000.0,\n",
       " 110000.0,\n",
       " 110000.0,\n",
       " 110000.0,\n",
       " 110000.0,\n",
       " 110000.0,\n",
       " 110000.0,\n",
       " 110000.0,\n",
       " 110000.0,\n",
       " 110000.0,\n",
       " 110000.0,\n",
       " 111000.0,\n",
       " 111000.0,\n",
       " 111000.0,\n",
       " 111500.0,\n",
       " 111500.0,\n",
       " 111750.0,\n",
       " 111900.0,\n",
       " 112000.0,\n",
       " 112000.0,\n",
       " 112000.0,\n",
       " 112000.0,\n",
       " 112000.0,\n",
       " 112000.0,\n",
       " 112500.0,\n",
       " 112500.0,\n",
       " 112500.0,\n",
       " 112900.0,\n",
       " 113000.0,\n",
       " 113000.0,\n",
       " 113000.0,\n",
       " 113000.0,\n",
       " 113000.0,\n",
       " 113000.0,\n",
       " 113000.0,\n",
       " 113000.0,\n",
       " 113000.0,\n",
       " 113500.0,\n",
       " 113500.0,\n",
       " 113500.0,\n",
       " 113700.0,\n",
       " 114000.0,\n",
       " 114000.0,\n",
       " 114000.0,\n",
       " 114500.0,\n",
       " 114504.0,\n",
       " 115000.0,\n",
       " 115000.0,\n",
       " 115000.0,\n",
       " 115000.0,\n",
       " 115000.0,\n",
       " 115000.0,\n",
       " 115000.0,\n",
       " 115000.0,\n",
       " 115000.0,\n",
       " 115000.0,\n",
       " 115000.0,\n",
       " 115500.0,\n",
       " 116000.0,\n",
       " 116000.0,\n",
       " 116000.0,\n",
       " 116000.0,\n",
       " 116000.0,\n",
       " 116000.0,\n",
       " 116050.0,\n",
       " 116500.0,\n",
       " 116900.0,\n",
       " 116900.0,\n",
       " 117000.0,\n",
       " 117000.0,\n",
       " 117000.0,\n",
       " 117000.0,\n",
       " 117500.0,\n",
       " 117500.0,\n",
       " 117600.0,\n",
       " 118000.0,\n",
       " 118000.0,\n",
       " 118000.0,\n",
       " 118000.0,\n",
       " 118000.0,\n",
       " 118400.0,\n",
       " 118500.0,\n",
       " 118500.0,\n",
       " 118500.0,\n",
       " 118500.0,\n",
       " 118900.0,\n",
       " 119000.0,\n",
       " 119000.0,\n",
       " 119000.0,\n",
       " 119000.0,\n",
       " 119000.0,\n",
       " 119000.0,\n",
       " 119000.0,\n",
       " 119000.0,\n",
       " 119000.0,\n",
       " 119000.0,\n",
       " 119200.0,\n",
       " 119500.0,\n",
       " 119500.0,\n",
       " 119500.0,\n",
       " 119500.0,\n",
       " 119500.0,\n",
       " 119750.0,\n",
       " 119900.0,\n",
       " 119900.0,\n",
       " 119900.0,\n",
       " 119916.0,\n",
       " 120000.0,\n",
       " 120000.0,\n",
       " 120000.0,\n",
       " 120000.0,\n",
       " 120000.0,\n",
       " 120000.0,\n",
       " 120000.0,\n",
       " 120000.0,\n",
       " 120000.0,\n",
       " 120000.0,\n",
       " 120000.0,\n",
       " 120000.0,\n",
       " 120000.0,\n",
       " 120000.0,\n",
       " 120500.0,\n",
       " 120500.0,\n",
       " 120750.0,\n",
       " 120875.0,\n",
       " 121000.0,\n",
       " 121000.0,\n",
       " 121000.0,\n",
       " 121500.0,\n",
       " 121600.0,\n",
       " 122000.0,\n",
       " 122000.0,\n",
       " 122000.0,\n",
       " 122000.0,\n",
       " 122000.0,\n",
       " 122250.0,\n",
       " 122500.0,\n",
       " 123000.0,\n",
       " 123000.0,\n",
       " 123000.0,\n",
       " 123000.0,\n",
       " 123000.0,\n",
       " 123000.0,\n",
       " 123000.0,\n",
       " 123500.0,\n",
       " 124000.0,\n",
       " 124000.0,\n",
       " 124000.0,\n",
       " 124000.0,\n",
       " 124000.0,\n",
       " 124000.0,\n",
       " 124100.0,\n",
       " 124400.0,\n",
       " 124500.0,\n",
       " 124500.0,\n",
       " 124500.0,\n",
       " 124500.0,\n",
       " 124500.0,\n",
       " 124900.0,\n",
       " 124900.0,\n",
       " 125000.0,\n",
       " 125000.0,\n",
       " 125000.0,\n",
       " 125000.0,\n",
       " 125000.0,\n",
       " 125000.0,\n",
       " 125000.0,\n",
       " 125000.0,\n",
       " 125000.0,\n",
       " 125000.0,\n",
       " 125000.0,\n",
       " 125000.0,\n",
       " 125000.0,\n",
       " 125200.0,\n",
       " 125500.0,\n",
       " 125500.0,\n",
       " 125500.0,\n",
       " 125500.0,\n",
       " 125600.0,\n",
       " 125900.0,\n",
       " 126000.0,\n",
       " 126000.0,\n",
       " 126000.0,\n",
       " 126000.0,\n",
       " 126000.0,\n",
       " 126175.0,\n",
       " 126500.0,\n",
       " 127000.0,\n",
       " 127000.0,\n",
       " 127000.0,\n",
       " 127000.0,\n",
       " 127000.0,\n",
       " 127000.0,\n",
       " 127000.0,\n",
       " 127000.0,\n",
       " 127000.0,\n",
       " 127000.0,\n",
       " 127000.0,\n",
       " 127000.0,\n",
       " 127000.0]"
      ]
     },
     "execution_count": 111,
     "metadata": {},
     "output_type": "execute_result"
    }
   ],
   "source": [
    "parsed2.filter(lambda x: ((x[18] == '1') & (x[21] == '1'))).\\\n",
    "            map(lambda x: to_float(x[-1])).\\\n",
    "            sortBy(lambda x: x).\\\n",
    "            take(385)"
   ]
  },
  {
   "cell_type": "code",
   "execution_count": 138,
   "metadata": {
    "collapsed": false
   },
   "outputs": [
    {
     "data": {
      "text/plain": [
       "127000"
      ]
     },
     "execution_count": 138,
     "metadata": {},
     "output_type": "execute_result"
    }
   ],
   "source": [
    "c2_1 = 127000 #La media de 1 cocina y 1 plaza garaje\n",
    "c2_1"
   ]
  },
  {
   "cell_type": "code",
   "execution_count": 84,
   "metadata": {
    "collapsed": false
   },
   "outputs": [
    {
     "data": {
      "text/plain": [
       "[576.75]"
      ]
     },
     "execution_count": 84,
     "metadata": {},
     "output_type": "execute_result"
    }
   ],
   "source": [
    "parsed2.filter(lambda x: ((x[18] == '1') & (x[21] == '1'))).\\\n",
    "            map(lambda x: ((length*3)/4)).take(1)"
   ]
  },
  {
   "cell_type": "code",
   "execution_count": 115,
   "metadata": {
    "collapsed": false
   },
   "outputs": [
    {
     "data": {
      "text/plain": [
       "[35000.0,\n",
       " 35311.0,\n",
       " 40000.0,\n",
       " 45000.0,\n",
       " 46500.0,\n",
       " 50000.0,\n",
       " 50138.0,\n",
       " 57625.0,\n",
       " 58500.0,\n",
       " 60000.0,\n",
       " 60000.0,\n",
       " 61500.0,\n",
       " 62383.0,\n",
       " 63000.0,\n",
       " 64000.0,\n",
       " 64000.0,\n",
       " 64500.0,\n",
       " 65000.0,\n",
       " 66500.0,\n",
       " 67000.0,\n",
       " 67500.0,\n",
       " 68104.0,\n",
       " 68500.0,\n",
       " 71000.0,\n",
       " 72500.0,\n",
       " 75000.0,\n",
       " 75000.0,\n",
       " 75000.0,\n",
       " 75190.0,\n",
       " 75200.0,\n",
       " 78000.0,\n",
       " 78000.0,\n",
       " 78500.0,\n",
       " 79000.0,\n",
       " 79000.0,\n",
       " 79400.0,\n",
       " 79500.0,\n",
       " 80000.0,\n",
       " 80000.0,\n",
       " 80000.0,\n",
       " 80000.0,\n",
       " 80000.0,\n",
       " 80000.0,\n",
       " 80400.0,\n",
       " 80900.0,\n",
       " 81300.0,\n",
       " 81500.0,\n",
       " 82000.0,\n",
       " 82000.0,\n",
       " 83000.0,\n",
       " 83000.0,\n",
       " 83500.0,\n",
       " 84000.0,\n",
       " 84900.0,\n",
       " 84900.0,\n",
       " 85000.0,\n",
       " 85000.0,\n",
       " 85000.0,\n",
       " 85000.0,\n",
       " 85000.0,\n",
       " 85400.0,\n",
       " 85500.0,\n",
       " 85500.0,\n",
       " 86000.0,\n",
       " 86000.0,\n",
       " 86900.0,\n",
       " 86900.0,\n",
       " 87000.0,\n",
       " 87000.0,\n",
       " 87000.0,\n",
       " 87550.0,\n",
       " 88000.0,\n",
       " 88000.0,\n",
       " 88000.0,\n",
       " 88750.0,\n",
       " 89000.0,\n",
       " 89000.0,\n",
       " 89000.0,\n",
       " 89500.0,\n",
       " 89500.0,\n",
       " 89900.0,\n",
       " 90000.0,\n",
       " 90350.0,\n",
       " 91000.0,\n",
       " 91000.0,\n",
       " 91000.0,\n",
       " 91300.0,\n",
       " 91500.0,\n",
       " 93000.0,\n",
       " 94500.0,\n",
       " 94750.0,\n",
       " 94900.0,\n",
       " 95000.0,\n",
       " 95000.0,\n",
       " 96000.0,\n",
       " 96000.0,\n",
       " 96500.0,\n",
       " 96900.0,\n",
       " 97000.0,\n",
       " 97000.0,\n",
       " 97500.0,\n",
       " 97900.0,\n",
       " 98000.0,\n",
       " 98000.0,\n",
       " 99000.0,\n",
       " 99000.0,\n",
       " 99500.0,\n",
       " 99500.0,\n",
       " 99500.0,\n",
       " 99800.0,\n",
       " 99900.0,\n",
       " 99900.0,\n",
       " 100000.0,\n",
       " 100000.0,\n",
       " 100000.0,\n",
       " 100000.0,\n",
       " 100000.0,\n",
       " 100000.0,\n",
       " 100000.0,\n",
       " 100000.0,\n",
       " 100500.0,\n",
       " 101000.0,\n",
       " 102000.0,\n",
       " 102000.0,\n",
       " 102000.0,\n",
       " 102776.0,\n",
       " 102900.0,\n",
       " 103000.0,\n",
       " 103400.0,\n",
       " 103500.0,\n",
       " 103600.0,\n",
       " 104000.0,\n",
       " 104000.0,\n",
       " 104500.0,\n",
       " 104500.0,\n",
       " 104900.0,\n",
       " 104900.0,\n",
       " 105000.0,\n",
       " 105000.0,\n",
       " 105000.0,\n",
       " 105000.0,\n",
       " 105000.0,\n",
       " 105000.0,\n",
       " 105000.0,\n",
       " 105000.0,\n",
       " 105000.0,\n",
       " 105000.0,\n",
       " 105000.0,\n",
       " 105500.0,\n",
       " 106000.0,\n",
       " 106500.0,\n",
       " 106500.0,\n",
       " 106500.0,\n",
       " 106900.0,\n",
       " 107000.0,\n",
       " 107000.0,\n",
       " 107000.0,\n",
       " 107500.0,\n",
       " 107500.0,\n",
       " 107900.0,\n",
       " 108000.0,\n",
       " 108000.0,\n",
       " 108000.0,\n",
       " 108000.0,\n",
       " 108000.0,\n",
       " 108000.0,\n",
       " 108000.0,\n",
       " 108000.0,\n",
       " 108000.0,\n",
       " 108480.0,\n",
       " 108500.0,\n",
       " 108500.0,\n",
       " 108500.0,\n",
       " 108538.0,\n",
       " 109000.0,\n",
       " 109000.0,\n",
       " 109000.0,\n",
       " 109008.0,\n",
       " 109500.0,\n",
       " 109500.0,\n",
       " 109500.0,\n",
       " 109500.0,\n",
       " 109900.0,\n",
       " 109900.0,\n",
       " 110000.0,\n",
       " 110000.0,\n",
       " 110000.0,\n",
       " 110000.0,\n",
       " 110000.0,\n",
       " 110000.0,\n",
       " 110000.0,\n",
       " 110000.0,\n",
       " 110000.0,\n",
       " 110000.0,\n",
       " 110000.0,\n",
       " 110000.0,\n",
       " 111000.0,\n",
       " 111000.0,\n",
       " 111000.0,\n",
       " 111500.0,\n",
       " 111500.0,\n",
       " 111750.0,\n",
       " 111900.0,\n",
       " 112000.0,\n",
       " 112000.0,\n",
       " 112000.0,\n",
       " 112000.0,\n",
       " 112000.0,\n",
       " 112000.0,\n",
       " 112500.0,\n",
       " 112500.0,\n",
       " 112500.0,\n",
       " 112900.0,\n",
       " 113000.0,\n",
       " 113000.0,\n",
       " 113000.0,\n",
       " 113000.0,\n",
       " 113000.0,\n",
       " 113000.0,\n",
       " 113000.0,\n",
       " 113000.0,\n",
       " 113000.0,\n",
       " 113500.0,\n",
       " 113500.0,\n",
       " 113500.0,\n",
       " 113700.0,\n",
       " 114000.0,\n",
       " 114000.0,\n",
       " 114000.0,\n",
       " 114500.0,\n",
       " 114504.0,\n",
       " 115000.0,\n",
       " 115000.0,\n",
       " 115000.0,\n",
       " 115000.0,\n",
       " 115000.0,\n",
       " 115000.0,\n",
       " 115000.0,\n",
       " 115000.0,\n",
       " 115000.0,\n",
       " 115000.0,\n",
       " 115000.0,\n",
       " 115500.0,\n",
       " 116000.0,\n",
       " 116000.0,\n",
       " 116000.0,\n",
       " 116000.0,\n",
       " 116000.0,\n",
       " 116000.0,\n",
       " 116050.0,\n",
       " 116500.0,\n",
       " 116900.0,\n",
       " 116900.0,\n",
       " 117000.0,\n",
       " 117000.0,\n",
       " 117000.0,\n",
       " 117000.0,\n",
       " 117500.0,\n",
       " 117500.0,\n",
       " 117600.0,\n",
       " 118000.0,\n",
       " 118000.0,\n",
       " 118000.0,\n",
       " 118000.0,\n",
       " 118000.0,\n",
       " 118400.0,\n",
       " 118500.0,\n",
       " 118500.0,\n",
       " 118500.0,\n",
       " 118500.0,\n",
       " 118900.0,\n",
       " 119000.0,\n",
       " 119000.0,\n",
       " 119000.0,\n",
       " 119000.0,\n",
       " 119000.0,\n",
       " 119000.0,\n",
       " 119000.0,\n",
       " 119000.0,\n",
       " 119000.0,\n",
       " 119000.0,\n",
       " 119200.0,\n",
       " 119500.0,\n",
       " 119500.0,\n",
       " 119500.0,\n",
       " 119500.0,\n",
       " 119500.0,\n",
       " 119750.0,\n",
       " 119900.0,\n",
       " 119900.0,\n",
       " 119900.0,\n",
       " 119916.0,\n",
       " 120000.0,\n",
       " 120000.0,\n",
       " 120000.0,\n",
       " 120000.0,\n",
       " 120000.0,\n",
       " 120000.0,\n",
       " 120000.0,\n",
       " 120000.0,\n",
       " 120000.0,\n",
       " 120000.0,\n",
       " 120000.0,\n",
       " 120000.0,\n",
       " 120000.0,\n",
       " 120000.0,\n",
       " 120500.0,\n",
       " 120500.0,\n",
       " 120750.0,\n",
       " 120875.0,\n",
       " 121000.0,\n",
       " 121000.0,\n",
       " 121000.0,\n",
       " 121500.0,\n",
       " 121600.0,\n",
       " 122000.0,\n",
       " 122000.0,\n",
       " 122000.0,\n",
       " 122000.0,\n",
       " 122000.0,\n",
       " 122250.0,\n",
       " 122500.0,\n",
       " 123000.0,\n",
       " 123000.0,\n",
       " 123000.0,\n",
       " 123000.0,\n",
       " 123000.0,\n",
       " 123000.0,\n",
       " 123000.0,\n",
       " 123500.0,\n",
       " 124000.0,\n",
       " 124000.0,\n",
       " 124000.0,\n",
       " 124000.0,\n",
       " 124000.0,\n",
       " 124000.0,\n",
       " 124100.0,\n",
       " 124400.0,\n",
       " 124500.0,\n",
       " 124500.0,\n",
       " 124500.0,\n",
       " 124500.0,\n",
       " 124500.0,\n",
       " 124900.0,\n",
       " 124900.0,\n",
       " 125000.0,\n",
       " 125000.0,\n",
       " 125000.0,\n",
       " 125000.0,\n",
       " 125000.0,\n",
       " 125000.0,\n",
       " 125000.0,\n",
       " 125000.0,\n",
       " 125000.0,\n",
       " 125000.0,\n",
       " 125000.0,\n",
       " 125000.0,\n",
       " 125000.0,\n",
       " 125200.0,\n",
       " 125500.0,\n",
       " 125500.0,\n",
       " 125500.0,\n",
       " 125500.0,\n",
       " 125600.0,\n",
       " 125900.0,\n",
       " 126000.0,\n",
       " 126000.0,\n",
       " 126000.0,\n",
       " 126000.0,\n",
       " 126000.0,\n",
       " 126175.0,\n",
       " 126500.0,\n",
       " 127000.0,\n",
       " 127000.0,\n",
       " 127000.0,\n",
       " 127000.0,\n",
       " 127000.0,\n",
       " 127000.0,\n",
       " 127000.0,\n",
       " 127000.0,\n",
       " 127000.0,\n",
       " 127000.0,\n",
       " 127000.0,\n",
       " 127000.0,\n",
       " 127000.0,\n",
       " 127000.0,\n",
       " 127500.0,\n",
       " 127500.0,\n",
       " 127500.0,\n",
       " 127500.0,\n",
       " 128000.0,\n",
       " 128000.0,\n",
       " 128000.0,\n",
       " 128000.0,\n",
       " 128000.0,\n",
       " 128000.0,\n",
       " 128000.0,\n",
       " 128000.0,\n",
       " 128000.0,\n",
       " 128000.0,\n",
       " 128000.0,\n",
       " 128200.0,\n",
       " 128250.0,\n",
       " 128500.0,\n",
       " 128500.0,\n",
       " 128500.0,\n",
       " 128500.0,\n",
       " 128500.0,\n",
       " 128500.0,\n",
       " 128900.0,\n",
       " 128900.0,\n",
       " 129000.0,\n",
       " 129000.0,\n",
       " 129000.0,\n",
       " 129000.0,\n",
       " 129000.0,\n",
       " 129000.0,\n",
       " 129200.0,\n",
       " 129250.0,\n",
       " 129500.0,\n",
       " 129500.0,\n",
       " 129500.0,\n",
       " 129500.0,\n",
       " 129800.0,\n",
       " 129900.0,\n",
       " 129900.0,\n",
       " 130000.0,\n",
       " 130000.0,\n",
       " 130000.0,\n",
       " 130000.0,\n",
       " 130000.0,\n",
       " 130000.0,\n",
       " 130000.0,\n",
       " 130000.0,\n",
       " 130000.0,\n",
       " 130000.0,\n",
       " 130000.0,\n",
       " 130250.0,\n",
       " 130500.0,\n",
       " 130500.0,\n",
       " 131000.0,\n",
       " 131000.0,\n",
       " 131000.0,\n",
       " 131000.0,\n",
       " 131250.0,\n",
       " 131400.0,\n",
       " 131500.0,\n",
       " 131750.0,\n",
       " 131750.0,\n",
       " 131900.0,\n",
       " 132000.0,\n",
       " 132000.0,\n",
       " 132000.0,\n",
       " 132000.0,\n",
       " 132000.0,\n",
       " 132000.0,\n",
       " 132000.0,\n",
       " 132000.0,\n",
       " 132000.0,\n",
       " 132500.0,\n",
       " 132500.0,\n",
       " 132500.0,\n",
       " 133000.0,\n",
       " 133000.0,\n",
       " 133000.0,\n",
       " 133000.0,\n",
       " 133000.0,\n",
       " 133000.0,\n",
       " 133000.0,\n",
       " 133500.0,\n",
       " 133500.0,\n",
       " 133500.0,\n",
       " 133700.0,\n",
       " 133900.0,\n",
       " 134000.0,\n",
       " 134000.0,\n",
       " 134450.0,\n",
       " 134500.0,\n",
       " 134500.0,\n",
       " 134500.0,\n",
       " 134500.0,\n",
       " 135000.0,\n",
       " 135000.0,\n",
       " 135000.0,\n",
       " 135000.0,\n",
       " 135000.0,\n",
       " 135000.0,\n",
       " 135000.0,\n",
       " 135000.0,\n",
       " 135000.0,\n",
       " 135000.0,\n",
       " 135000.0,\n",
       " 135000.0,\n",
       " 135000.0,\n",
       " 135000.0,\n",
       " 135000.0,\n",
       " 135000.0,\n",
       " 135000.0,\n",
       " 135000.0,\n",
       " 135500.0,\n",
       " 135500.0,\n",
       " 135750.0,\n",
       " 136000.0,\n",
       " 136000.0,\n",
       " 136000.0,\n",
       " 136000.0,\n",
       " 136000.0,\n",
       " 136500.0,\n",
       " 136500.0,\n",
       " 136500.0,\n",
       " 136500.0,\n",
       " 136500.0,\n",
       " 136500.0,\n",
       " 136870.0,\n",
       " 136900.0,\n",
       " 137000.0,\n",
       " 137000.0,\n",
       " 137000.0,\n",
       " 137000.0,\n",
       " 137000.0,\n",
       " 137000.0,\n",
       " 137000.0,\n",
       " 137000.0,\n",
       " 137000.0,\n",
       " 137250.0,\n",
       " 137450.0,\n",
       " 137500.0,\n",
       " 137500.0,\n",
       " 137500.0,\n",
       " 137500.0,\n",
       " 137900.0,\n",
       " 138000.0,\n",
       " 138000.0,\n",
       " 138000.0,\n",
       " 138500.0,\n",
       " 138500.0,\n",
       " 138800.0,\n",
       " 138887.0,\n",
       " 139000.0,\n",
       " 139000.0,\n",
       " 139000.0,\n",
       " 139000.0,\n",
       " 139000.0,\n",
       " 139000.0,\n",
       " 139000.0,\n",
       " 139000.0,\n",
       " 139000.0,\n",
       " 139400.0,\n",
       " 139400.0,\n",
       " 139500.0,\n",
       " 139500.0,\n",
       " 139500.0,\n",
       " 139500.0,\n",
       " 139500.0,\n",
       " 139900.0,\n",
       " 139900.0,\n",
       " 140000.0,\n",
       " 140000.0,\n",
       " 140000.0,\n",
       " 140000.0,\n",
       " 140000.0,\n",
       " 140000.0,\n",
       " 140000.0,\n",
       " 140000.0,\n",
       " 140000.0,\n",
       " 140000.0,\n",
       " 140000.0,\n",
       " 140200.0,\n",
       " 141000.0,\n",
       " 141000.0,\n",
       " 141000.0,\n",
       " 141000.0,\n",
       " 141000.0,\n",
       " 141500.0,\n",
       " 141500.0,\n",
       " 142000.0,\n",
       " 142000.0]"
      ]
     },
     "execution_count": 115,
     "metadata": {},
     "output_type": "execute_result"
    }
   ],
   "source": [
    "parsed2.filter(lambda x: ((x[18] == '1') & (x[21] == '1'))).\\\n",
    "            map(lambda x: to_float(x[-1])).\\\n",
    "            sortBy(lambda x: x).\\\n",
    "            take(577)"
   ]
  },
  {
   "cell_type": "code",
   "execution_count": 142,
   "metadata": {
    "collapsed": false
   },
   "outputs": [
    {
     "data": {
      "text/plain": [
       "142000"
      ]
     },
     "execution_count": 142,
     "metadata": {},
     "output_type": "execute_result"
    }
   ],
   "source": [
    "c3_1 = 142000 #3º cuartil de 1 cocina 1 garaje\n",
    "c3_1"
   ]
  },
  {
   "cell_type": "code",
   "execution_count": 140,
   "metadata": {
    "collapsed": false
   },
   "outputs": [
    {
     "data": {
      "text/plain": [
       "330000.0"
      ]
     },
     "execution_count": 140,
     "metadata": {},
     "output_type": "execute_result"
    }
   ],
   "source": [
    "max_1 = parsed2.filter(lambda x: ((x[18] == '1') & (x[21] == '1'))).\\\n",
    "            map(lambda x: to_float(x[-1])).\\\n",
    "            sortBy(lambda x: x).\\\n",
    "            max()\n",
    "#El 4º cuartil es el valor máximo.\n",
    "max_1"
   ]
  },
  {
   "cell_type": "code",
   "execution_count": null,
   "metadata": {
    "collapsed": true
   },
   "outputs": [],
   "source": []
  },
  {
   "cell_type": "markdown",
   "metadata": {},
   "source": [
    "## (COMPLEMENTARIA) Estudiar la relación entre el precio y el número de Garajes. (Recomiendo segmentar precio por cuartiles y estudiar el número de casos coincidentes)"
   ]
  },
  {
   "cell_type": "markdown",
   "metadata": {},
   "source": [
    "## (COMPLEMENTARIA) Las 10 viviendas con mejores servicios y mejor precio."
   ]
  },
  {
   "cell_type": "markdown",
   "metadata": {},
   "source": [
    "### Pista:\n",
    "#### Calcula las variables: \n",
    "- Número de servicios excelentes\n",
    "- Número de servicios buenos\n",
    "...\n",
    "\n",
    "#### Tendréis que tener en cuenta también variables como número de baños Full Bath, cocinas Kitchen AbvGr o dormitorios Bedroom AbvGr. Generando por ejemplo (número de estas variables por encima de media)\n",
    "\n",
    "#### Finalmente precio de venta"
   ]
  }
 ],
 "metadata": {
  "kernelspec": {
   "display_name": "Python 3",
   "language": "python",
   "name": "python3"
  },
  "language_info": {
   "codemirror_mode": {
    "name": "ipython",
    "version": 3
   },
   "file_extension": ".py",
   "mimetype": "text/x-python",
   "name": "python",
   "nbconvert_exporter": "python",
   "pygments_lexer": "ipython3",
   "version": "3.5.2"
  },
  "toc": {
   "base_numbering": 1,
   "nav_menu": {},
   "number_sections": true,
   "sideBar": true,
   "skip_h1_title": false,
   "title_cell": "Table of Contents",
   "title_sidebar": "Contents",
   "toc_cell": false,
   "toc_position": {},
   "toc_section_display": true,
   "toc_window_display": true
  }
 },
 "nbformat": 4,
 "nbformat_minor": 2
}
